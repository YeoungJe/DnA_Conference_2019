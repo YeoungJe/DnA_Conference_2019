{
 "cells": [
  {
   "cell_type": "markdown",
   "metadata": {},
   "source": [
    "# Import"
   ]
  },
  {
   "cell_type": "code",
   "execution_count": 163,
   "metadata": {},
   "outputs": [],
   "source": [
    "from sklearn.metrics import mean_squared_error, accuracy_score, confusion_matrix, cohen_kappa_score\n",
    "from sklearn.ensemble import RandomForestClassifier, AdaBoostClassifier, GradientBoostingClassifier, ExtraTreesClassifier, VotingClassifier\n",
    "from sklearn.discriminant_analysis import LinearDiscriminantAnalysis\n",
    "from sklearn.linear_model import LogisticRegression\n",
    "from sklearn.neighbors import KNeighborsClassifier\n",
    "from sklearn.tree import DecisionTreeClassifier\n",
    "from sklearn.neural_network import MLPClassifier\n",
    "from sklearn.svm import SVC\n",
    "from sklearn.preprocessing import MinMaxScaler\n",
    "from subprocess import check_output\n",
    "from xgboost import XGBClassifier, plot_importance\n",
    "from lightgbm import LGBMClassifier\n",
    "from numpy import newaxis\n",
    "from collections import Counter\n",
    "from tqdm import tqdm_notebook\n",
    "from glob import glob\n",
    "from functools import reduce\n",
    "\n",
    "import xgboost as xg\n",
    "import numpy as np \n",
    "import pandas as pd \n",
    "import matplotlib.pyplot as plt\n",
    "import time\n",
    "import re\n",
    "import warnings\n",
    "warnings.filterwarnings(\"ignore\")"
   ]
  },
  {
   "cell_type": "markdown",
   "metadata": {},
   "source": [
    "# Function"
   ]
  },
  {
   "cell_type": "code",
   "execution_count": 203,
   "metadata": {},
   "outputs": [],
   "source": [
    "def del_per(x) :\n",
    "    try :\n",
    "        if \" %\" in x :\n",
    "            output = re.sub(\" %\",\"\",x)\n",
    "        else :\n",
    "            output = re.sub(\"%\",\"\",x)\n",
    "        return(output)\n",
    "    except :\n",
    "        pass"
   ]
  },
  {
   "cell_type": "code",
   "execution_count": 3,
   "metadata": {},
   "outputs": [],
   "source": [
    "def cleansing(x) :\n",
    "    output = re.sub(\"[년월]\",\"-\",x)\n",
    "    output = re.sub(\"[일 ]\",\"\",output)\n",
    "    return(output)"
   ]
  },
  {
   "cell_type": "code",
   "execution_count": 199,
   "metadata": {},
   "outputs": [],
   "source": [
    "def text2num(x) :\n",
    "    if type(x) == str :\n",
    "        output = float(re.sub(\",\",\"\",x))\n",
    "    else :\n",
    "        output = x\n",
    "    return output"
   ]
  },
  {
   "cell_type": "code",
   "execution_count": 79,
   "metadata": {},
   "outputs": [],
   "source": [
    "def model_performance(acc, truth, predict) :\n",
    "    print(\"정확도 : \",np.mean(acc))\n",
    "    print(\"정답 분포 :\",\"Up -\", Counter(truth)['Up']/np.sum([x for x in Counter(truth).values()]),\"Down -\", Counter(truth)['Down']/ np.sum([x for x in Counter(truth).values()]))\n",
    "    print(\"Kappa :\",cohen_kappa_score(truth,predict))"
   ]
  },
  {
   "cell_type": "code",
   "execution_count": 1,
   "metadata": {},
   "outputs": [],
   "source": [
    "def model_performance_reg(acc) :\n",
    "    print(\"정확도 : \",np.mean(acc))"
   ]
  },
  {
   "cell_type": "code",
   "execution_count": 5,
   "metadata": {},
   "outputs": [],
   "source": [
    "def percent2num(x) :\n",
    "    if \",\" in x :\n",
    "        output = re.sub(\"%\",\"\",x)\n",
    "        output = float(text2num(output))\n",
    "    else :\n",
    "        output = float(re.sub(\"%\",\"\",x))\n",
    "    return output"
   ]
  },
  {
   "cell_type": "code",
   "execution_count": 330,
   "metadata": {},
   "outputs": [],
   "source": [
    "def volum_num(x) :\n",
    "    if x == \"-\" :\n",
    "        output = 0\n",
    "    else :\n",
    "        text = re.findall('[KMB]',x)[0]\n",
    "        if text == \"K\" :\n",
    "            num = re.sub('[KBM]',\"\",x)\n",
    "            num = text2num(num)\n",
    "            output = num * 1000\n",
    "        elif text == \"M\" :\n",
    "            num = re.sub('[KBM]',\"\",x)\n",
    "            num = text2num(num)\n",
    "            output = num * 1000000\n",
    "        elif text == \"B\" :\n",
    "            num = re.sub('[KBM]',\"\",x)\n",
    "            num = text2num(num)\n",
    "            output = num * 1000000000\n",
    "    return output"
   ]
  },
  {
   "cell_type": "code",
   "execution_count": 350,
   "metadata": {},
   "outputs": [],
   "source": [
    "def continual_learning(model, data, del_var, target_var, train_volum, train_start_idx) :\n",
    "    train_end_idx = train_start_idx + train_volum\n",
    "    test_start_idx = train_end_idx + 1\n",
    "    \n",
    "    whole_predict = []\n",
    "    whole_truth = []\n",
    "    whole_acc = []\n",
    "    \n",
    "    select_list = [x for x in data.columns if x not in del_var]\n",
    "    \n",
    "    print(\"Start Fitting..\")\n",
    "    for _ in tqdm_notebook(range(data.shape[0] - (train_volum + 1))) :\n",
    "        \n",
    "        tmp_train_x = data.loc[train_start_idx:train_end_idx,select_list]\n",
    "        tmp_train_y = data.loc[train_start_idx:train_end_idx,target_var]\n",
    "        tmp_test_x = data.loc[test_start_idx:test_start_idx,select_list]\n",
    "        tmp_test_y = data.loc[test_start_idx:test_start_idx,target_var]\n",
    "\n",
    "        # fitting\n",
    "        model.fit(tmp_train_x,tmp_train_y)\n",
    "        # predict\n",
    "        predict_value = model.predict(tmp_test_x)\n",
    "\n",
    "        # save acc\n",
    "        if target_var == \"clf_target\" :\n",
    "            whole_acc.append(accuracy_score(predict_value,tmp_test_y))\n",
    "        elif target_var == \"reg_target\" :\n",
    "            whole_acc.append(mean_squared_error(predict_value,tmp_test_y))\n",
    "        whole_predict.append(predict_value[0])\n",
    "        whole_truth.append(tmp_test_y.iloc[0])\n",
    "\n",
    "        train_start_idx += 1\n",
    "        train_end_idx = train_start_idx + train_volum\n",
    "        test_start_idx = train_end_idx + 1\n",
    "    \n",
    "    print(\"Finish\")\n",
    "    return whole_predict, whole_truth, whole_acc"
   ]
  },
  {
   "cell_type": "code",
   "execution_count": 351,
   "metadata": {},
   "outputs": [],
   "source": [
    "def continual_learning_with_sampling(model, data, del_var, target_var, train_volum, train_start_idx, sample_days = 7, sample_cnt = 1) :\n",
    "    train_end_idx = train_start_idx + train_volum\n",
    "    test_start_idx = train_end_idx + 1\n",
    "    \n",
    "    whole_predict = []\n",
    "    whole_truth = []\n",
    "    whole_acc = []\n",
    "    \n",
    "    select_list = [x for x in data.columns if x not in del_var]\n",
    "\n",
    "    print(\"Start Fitting..\")\n",
    "    for _ in tqdm_notebook(range(data.shape[0] - (train_volum + 1))) :\n",
    "        tmp_train_x = data.loc[train_start_idx:train_end_idx,select_list]\n",
    "        tmp_train_y = data.loc[train_start_idx:train_end_idx,target_var]\n",
    "        tmp_test_x = data.loc[test_start_idx:test_start_idx,select_list]\n",
    "        tmp_test_y = data.loc[test_start_idx:test_start_idx,target_var]\n",
    "\n",
    "        # append sample\n",
    "        for _ in range(sample_cnt) :\n",
    "            tmp_train_x = tmp_train_x.append(tmp_train_x.loc[(train_end_idx - sample_days):])\n",
    "            tmp_train_y = tmp_train_y.append(tmp_train_y.loc[(train_end_idx - sample_days):])\n",
    "\n",
    "        # fitting\n",
    "        model.fit(tmp_train_x,tmp_train_y)\n",
    "        # predict\n",
    "        predict_value = model.predict(tmp_test_x)\n",
    "\n",
    "        # save acc\n",
    "        if target_var == \"clf_target\" :\n",
    "            whole_acc.append(accuracy_score(predict_value,tmp_test_y))\n",
    "        elif target_var == \"reg_target\" :\n",
    "            whole_acc.append(mean_squared_error(predict_value,tmp_test_y))\n",
    "        whole_predict.append(predict_value[0])\n",
    "        whole_truth.append(tmp_test_y.iloc[0])\n",
    "\n",
    "        train_start_idx += 1\n",
    "        train_end_idx = train_start_idx + train_volum\n",
    "        test_start_idx = train_end_idx + 1\n",
    "    \n",
    "    print(\"Finish\")\n",
    "    return whole_predict, whole_truth, whole_acc"
   ]
  },
  {
   "cell_type": "code",
   "execution_count": 374,
   "metadata": {},
   "outputs": [],
   "source": [
    "def make_target(data) :\n",
    "    # 1. 분류 데이터\n",
    "    clf_target = []\n",
    "    for idx in range(1, data.shape[0]) :\n",
    "        if data.kopsi_현재가[idx] >= data.kopsi_현재가[idx - 1] :\n",
    "            clf_target.append(\"Up\")\n",
    "        else :\n",
    "            clf_target.append(\"Down\")\n",
    "    # 2. 수치 데이터\n",
    "    reg_target = []\n",
    "    for idx in range(1,data.shape[0]) :\n",
    "        reg_target.append(data.kopsi_현재가[idx])\n",
    "    # 3. 가장 최근 데이터 날림\n",
    "    data = data.iloc[:(data.shape[0] - 1),:]\n",
    "    # 4. 저장\n",
    "    data['clf_target'] = clf_target\n",
    "    data['reg_target'] = reg_target\n",
    "    return data"
   ]
  },
  {
   "cell_type": "markdown",
   "metadata": {},
   "source": [
    "# Load data"
   ]
  },
  {
   "cell_type": "code",
   "execution_count": 7,
   "metadata": {},
   "outputs": [],
   "source": [
    "save_file_path = \"/home/ubunt/4-2/stock price/data/price/\""
   ]
  },
  {
   "cell_type": "code",
   "execution_count": 364,
   "metadata": {},
   "outputs": [],
   "source": [
    "kospi = pd.read_csv(save_file_path + \"KOSPI.csv\")"
   ]
  },
  {
   "cell_type": "code",
   "execution_count": 365,
   "metadata": {
    "scrolled": true
   },
   "outputs": [
    {
     "data": {
      "text/html": [
       "<div>\n",
       "<style scoped>\n",
       "    .dataframe tbody tr th:only-of-type {\n",
       "        vertical-align: middle;\n",
       "    }\n",
       "\n",
       "    .dataframe tbody tr th {\n",
       "        vertical-align: top;\n",
       "    }\n",
       "\n",
       "    .dataframe thead th {\n",
       "        text-align: right;\n",
       "    }\n",
       "</style>\n",
       "<table border=\"1\" class=\"dataframe\">\n",
       "  <thead>\n",
       "    <tr style=\"text-align: right;\">\n",
       "      <th></th>\n",
       "      <th>date</th>\n",
       "      <th>kopsi_현재가</th>\n",
       "      <th>kopsi_오픈</th>\n",
       "      <th>kopsi_고가</th>\n",
       "      <th>kopsi_저가</th>\n",
       "      <th>kopsi_거래량</th>\n",
       "      <th>kopsi_변동</th>\n",
       "    </tr>\n",
       "  </thead>\n",
       "  <tbody>\n",
       "    <tr>\n",
       "      <th>0</th>\n",
       "      <td>2010-01-04</td>\n",
       "      <td>1696.14</td>\n",
       "      <td>1681.71</td>\n",
       "      <td>1696.14</td>\n",
       "      <td>1681.71</td>\n",
       "      <td>296550000.0</td>\n",
       "      <td>0.79</td>\n",
       "    </tr>\n",
       "    <tr>\n",
       "      <th>1</th>\n",
       "      <td>2010-01-05</td>\n",
       "      <td>1690.62</td>\n",
       "      <td>1701.62</td>\n",
       "      <td>1702.39</td>\n",
       "      <td>1686.45</td>\n",
       "      <td>408850000.0</td>\n",
       "      <td>-0.33</td>\n",
       "    </tr>\n",
       "    <tr>\n",
       "      <th>2</th>\n",
       "      <td>2010-01-06</td>\n",
       "      <td>1705.32</td>\n",
       "      <td>1697.88</td>\n",
       "      <td>1706.89</td>\n",
       "      <td>1696.10</td>\n",
       "      <td>426040000.0</td>\n",
       "      <td>0.87</td>\n",
       "    </tr>\n",
       "    <tr>\n",
       "      <th>3</th>\n",
       "      <td>2010-01-07</td>\n",
       "      <td>1683.45</td>\n",
       "      <td>1702.92</td>\n",
       "      <td>1707.90</td>\n",
       "      <td>1683.45</td>\n",
       "      <td>462400000.0</td>\n",
       "      <td>-1.28</td>\n",
       "    </tr>\n",
       "    <tr>\n",
       "      <th>4</th>\n",
       "      <td>2010-01-08</td>\n",
       "      <td>1695.26</td>\n",
       "      <td>1694.06</td>\n",
       "      <td>1695.26</td>\n",
       "      <td>1668.84</td>\n",
       "      <td>379950000.0</td>\n",
       "      <td>0.70</td>\n",
       "    </tr>\n",
       "  </tbody>\n",
       "</table>\n",
       "</div>"
      ],
      "text/plain": [
       "         date  kopsi_현재가  kopsi_오픈  kopsi_고가  kopsi_저가    kopsi_거래량  kopsi_변동\n",
       "0  2010-01-04    1696.14   1681.71   1696.14   1681.71  296550000.0      0.79\n",
       "1  2010-01-05    1690.62   1701.62   1702.39   1686.45  408850000.0     -0.33\n",
       "2  2010-01-06    1705.32   1697.88   1706.89   1696.10  426040000.0      0.87\n",
       "3  2010-01-07    1683.45   1702.92   1707.90   1683.45  462400000.0     -1.28\n",
       "4  2010-01-08    1695.26   1694.06   1695.26   1668.84  379950000.0      0.70"
      ]
     },
     "execution_count": 365,
     "metadata": {},
     "output_type": "execute_result"
    }
   ],
   "source": [
    "kospi.head()"
   ]
  },
  {
   "cell_type": "code",
   "execution_count": 360,
   "metadata": {},
   "outputs": [],
   "source": [
    "kospi.to_csv(save_file_path + \"KOSPI.csv\", index=False)"
   ]
  },
  {
   "cell_type": "markdown",
   "metadata": {},
   "source": [
    "#### 타겟 변수 생성"
   ]
  },
  {
   "cell_type": "markdown",
   "metadata": {},
   "source": [
    "1. 분류 데이터"
   ]
  },
  {
   "cell_type": "code",
   "execution_count": 12,
   "metadata": {},
   "outputs": [],
   "source": [
    "clf_target = []\n",
    "for idx in range(1, kospi.shape[0]) :\n",
    "    if kospi.kopsi_현재가[idx] >= kospi.kopsi_현재가[idx - 1] :\n",
    "        clf_target.append(\"Up\")\n",
    "    else :\n",
    "        clf_target.append(\"Down\")"
   ]
  },
  {
   "cell_type": "markdown",
   "metadata": {},
   "source": [
    "2. 수치 데이터"
   ]
  },
  {
   "cell_type": "code",
   "execution_count": 14,
   "metadata": {},
   "outputs": [],
   "source": [
    "reg_target = []\n",
    "for idx in range(1,kospi.shape[0]) :\n",
    "    reg_target.append(kospi.kopsi_현재가[idx])"
   ]
  },
  {
   "cell_type": "markdown",
   "metadata": {},
   "source": [
    "3. 가장 최근 데이터 날림"
   ]
  },
  {
   "cell_type": "code",
   "execution_count": 15,
   "metadata": {},
   "outputs": [],
   "source": [
    "kospi = kospi.iloc[:(kospi.shape[0] - 1),:]"
   ]
  },
  {
   "cell_type": "markdown",
   "metadata": {},
   "source": [
    "4. 저장"
   ]
  },
  {
   "cell_type": "code",
   "execution_count": 16,
   "metadata": {},
   "outputs": [],
   "source": [
    "kospi['clf_target'] = clf_target\n",
    "kospi['reg_target'] = reg_target"
   ]
  },
  {
   "cell_type": "markdown",
   "metadata": {},
   "source": [
    "# Train on base feature"
   ]
  },
  {
   "cell_type": "markdown",
   "metadata": {},
   "source": [
    "#### continual learning LGBM"
   ]
  },
  {
   "cell_type": "code",
   "execution_count": 240,
   "metadata": {},
   "outputs": [],
   "source": [
    "var_set = ['date','clf_target',\"reg_target\"]\n",
    "LightGBM_base = LGBMClassifier(random_state=0)"
   ]
  },
  {
   "cell_type": "code",
   "execution_count": 241,
   "metadata": {
    "scrolled": true
   },
   "outputs": [
    {
     "name": "stdout",
     "output_type": "stream",
     "text": [
      "Start Fitting..\n"
     ]
    },
    {
     "data": {
      "application/vnd.jupyter.widget-view+json": {
       "model_id": "0ca50141c440466c8bf567bcb68ebce5",
       "version_major": 2,
       "version_minor": 0
      },
      "text/plain": [
       "HBox(children=(IntProgress(value=0, max=2327), HTML(value='')))"
      ]
     },
     "metadata": {},
     "output_type": "display_data"
    },
    {
     "name": "stdout",
     "output_type": "stream",
     "text": [
      "\n",
      "Finish\n"
     ]
    }
   ],
   "source": [
    "model_predict, ground_truth, model_acc = continual_learning(model = LightGBM_base, data = kospi, del_var= var_set,\n",
    "                                                           target_var = \"clf_target\", train_volum = 100, \n",
    "                                                            train_start_idx = 0)"
   ]
  },
  {
   "cell_type": "markdown",
   "metadata": {},
   "source": [
    "#### 모델 성능"
   ]
  },
  {
   "cell_type": "code",
   "execution_count": 242,
   "metadata": {
    "scrolled": true
   },
   "outputs": [
    {
     "name": "stdout",
     "output_type": "stream",
     "text": [
      "정확도 :  0.5006446067898582\n",
      "정답 분포 : Up - 0.5212720240653201 Down - 0.47872797593467986\n",
      "Kappa : 0.0004302922808374632\n"
     ]
    }
   ],
   "source": [
    "model_performance(model_acc,ground_truth,model_predict)"
   ]
  },
  {
   "cell_type": "markdown",
   "metadata": {},
   "source": [
    "#### Tuned LGBM"
   ]
  },
  {
   "cell_type": "code",
   "execution_count": 97,
   "metadata": {},
   "outputs": [],
   "source": [
    "LightGBM_tuned =LGBMClassifier(boosting_type='gbdt', class_weight=None, colsample_bytree=1.0,\n",
    "        importance_type='split', learning_rate=0.06528650438687811,\n",
    "        max_depth=24, min_child_samples=20, min_child_weight=0.001,\n",
    "        min_split_gain=0.0, n_estimators=400, n_jobs=-1, num_leaves=31,\n",
    "        objective=None, random_state=0, reg_alpha=0.0, reg_lambda=0.0,\n",
    "        silent=True, subsample=0.1817270377811787,\n",
    "        subsample_for_bin=200000, subsample_freq=0)"
   ]
  },
  {
   "cell_type": "code",
   "execution_count": 100,
   "metadata": {},
   "outputs": [
    {
     "name": "stdout",
     "output_type": "stream",
     "text": [
      "Start Fitting..\n"
     ]
    },
    {
     "name": "stderr",
     "output_type": "stream",
     "text": [
      "/home/ubunt/anaconda3/lib/python3.6/site-packages/ipykernel_launcher.py:10: TqdmDeprecationWarning: This function will be removed in tqdm==5.0.0\n",
      "Please use `tqdm.notebook.tqdm` instead of `tqdm.tqdm_notebook`\n",
      "  # Remove the CWD from sys.path while we load stuff.\n"
     ]
    },
    {
     "data": {
      "application/vnd.jupyter.widget-view+json": {
       "model_id": "",
       "version_major": 2,
       "version_minor": 0
      },
      "text/plain": [
       "HBox(children=(IntProgress(value=0, max=2327), HTML(value='')))"
      ]
     },
     "metadata": {},
     "output_type": "display_data"
    },
    {
     "name": "stdout",
     "output_type": "stream",
     "text": [
      "\n",
      "Finish\n"
     ]
    }
   ],
   "source": [
    "model_predict, ground_truth, model_acc = continual_learning(model = LightGBM_tuned, data = kospi, del_var= var_set,\n",
    "                                                           target_var = \"clf_target\", train_volum = 100, \n",
    "                                                            train_start_idx = 0)"
   ]
  },
  {
   "cell_type": "code",
   "execution_count": 101,
   "metadata": {
    "scrolled": true
   },
   "outputs": [
    {
     "name": "stdout",
     "output_type": "stream",
     "text": [
      "정확도 :  0.4933390631714654\n",
      "정답 분포 : Up - 0.5212720240653201 Down - 0.47872797593467986\n",
      "Kappa : -0.014156245829847869\n"
     ]
    }
   ],
   "source": [
    "model_performance(model_acc,ground_truth,model_predict)"
   ]
  },
  {
   "cell_type": "markdown",
   "metadata": {},
   "source": [
    "#### 기본 모델 test"
   ]
  },
  {
   "cell_type": "code",
   "execution_count": 118,
   "metadata": {},
   "outputs": [],
   "source": [
    "# Classifier set \n",
    "random_state = 0\n",
    "classifier_set = {}\n",
    "classifier_set['SVM'] = SVC(random_state=random_state,verbose=False)\n",
    "classifier_set['DT'] = DecisionTreeClassifier(random_state=random_state)\n",
    "classifier_set['AdaBoost'] = AdaBoostClassifier(DecisionTreeClassifier(random_state=random_state),random_state=random_state,learning_rate=0.1)\n",
    "classifier_set['RF'] = RandomForestClassifier(random_state=random_state)\n",
    "classifier_set['ExtraTree'] = ExtraTreesClassifier(random_state=random_state)\n",
    "classifier_set['GBM'] = GradientBoostingClassifier(random_state=random_state)\n",
    "classifier_set['MLP'] = MLPClassifier(random_state=random_state)\n",
    "classifier_set['KNN'] = KNeighborsClassifier()\n",
    "classifier_set['LogisticLinear'] = LogisticRegression(random_state = random_state)\n",
    "classifier_set['LDA'] = LinearDiscriminantAnalysis()"
   ]
  },
  {
   "cell_type": "code",
   "execution_count": 119,
   "metadata": {},
   "outputs": [],
   "source": [
    "results_set = {}"
   ]
  },
  {
   "cell_type": "code",
   "execution_count": 120,
   "metadata": {
    "scrolled": false
   },
   "outputs": [
    {
     "data": {
      "application/vnd.jupyter.widget-view+json": {
       "model_id": "",
       "version_major": 2,
       "version_minor": 0
      },
      "text/plain": [
       "HBox(children=(IntProgress(value=0, max=10), HTML(value='')))"
      ]
     },
     "metadata": {},
     "output_type": "display_data"
    },
    {
     "name": "stdout",
     "output_type": "stream",
     "text": [
      "Start Fitting..\n"
     ]
    },
    {
     "data": {
      "application/vnd.jupyter.widget-view+json": {
       "model_id": "",
       "version_major": 2,
       "version_minor": 0
      },
      "text/plain": [
       "HBox(children=(IntProgress(value=0, max=2327), HTML(value='')))"
      ]
     },
     "metadata": {},
     "output_type": "display_data"
    },
    {
     "name": "stdout",
     "output_type": "stream",
     "text": [
      "\n",
      "Finish\n",
      "SVM\n",
      "정확도 :  0.4997851310700473\n",
      "정답 분포 : Up - 0.5212720240653201 Down - 0.47872797593467986\n",
      "Kappa : -0.004968021376962062\n",
      "Start Fitting..\n"
     ]
    },
    {
     "data": {
      "application/vnd.jupyter.widget-view+json": {
       "model_id": "",
       "version_major": 2,
       "version_minor": 0
      },
      "text/plain": [
       "HBox(children=(IntProgress(value=0, max=2327), HTML(value='')))"
      ]
     },
     "metadata": {},
     "output_type": "display_data"
    },
    {
     "name": "stdout",
     "output_type": "stream",
     "text": [
      "\n",
      "Finish\n",
      "DT\n",
      "정확도 :  0.4941985388912763\n",
      "정답 분포 : Up - 0.5212720240653201 Down - 0.47872797593467986\n",
      "Kappa : -0.012361782855622172\n",
      "Start Fitting..\n"
     ]
    },
    {
     "data": {
      "application/vnd.jupyter.widget-view+json": {
       "model_id": "",
       "version_major": 2,
       "version_minor": 0
      },
      "text/plain": [
       "HBox(children=(IntProgress(value=0, max=2327), HTML(value='')))"
      ]
     },
     "metadata": {},
     "output_type": "display_data"
    },
    {
     "name": "stdout",
     "output_type": "stream",
     "text": [
      "\n",
      "Finish\n",
      "AdaBoost\n",
      "정확도 :  0.49935539321014183\n",
      "정답 분포 : Up - 0.5212720240653201 Down - 0.47872797593467986\n",
      "Kappa : -0.002700790375096185\n",
      "Start Fitting..\n"
     ]
    },
    {
     "data": {
      "application/vnd.jupyter.widget-view+json": {
       "model_id": "",
       "version_major": 2,
       "version_minor": 0
      },
      "text/plain": [
       "HBox(children=(IntProgress(value=0, max=2327), HTML(value='')))"
      ]
     },
     "metadata": {},
     "output_type": "display_data"
    },
    {
     "name": "stdout",
     "output_type": "stream",
     "text": [
      "\n",
      "Finish\n",
      "RF\n",
      "정확도 :  0.5100988397077783\n",
      "정답 분포 : Up - 0.5212720240653201 Down - 0.47872797593467986\n",
      "Kappa : 0.024637931605013708\n",
      "Start Fitting..\n"
     ]
    },
    {
     "data": {
      "application/vnd.jupyter.widget-view+json": {
       "model_id": "",
       "version_major": 2,
       "version_minor": 0
      },
      "text/plain": [
       "HBox(children=(IntProgress(value=0, max=2327), HTML(value='')))"
      ]
     },
     "metadata": {},
     "output_type": "display_data"
    },
    {
     "name": "stdout",
     "output_type": "stream",
     "text": [
      "\n",
      "Finish\n",
      "ExtraTree\n",
      "정확도 :  0.5161151697464547\n",
      "정답 분포 : Up - 0.5212720240653201 Down - 0.47872797593467986\n",
      "Kappa : 0.03478911768107906\n",
      "Start Fitting..\n"
     ]
    },
    {
     "data": {
      "application/vnd.jupyter.widget-view+json": {
       "model_id": "",
       "version_major": 2,
       "version_minor": 0
      },
      "text/plain": [
       "HBox(children=(IntProgress(value=0, max=2327), HTML(value='')))"
      ]
     },
     "metadata": {},
     "output_type": "display_data"
    },
    {
     "name": "stdout",
     "output_type": "stream",
     "text": [
      "\n",
      "Finish\n",
      "GBM\n",
      "정확도 :  0.49806617963042543\n",
      "정답 분포 : Up - 0.5212720240653201 Down - 0.47872797593467986\n",
      "Kappa : -0.0045839379582734985\n",
      "Start Fitting..\n"
     ]
    },
    {
     "data": {
      "application/vnd.jupyter.widget-view+json": {
       "model_id": "",
       "version_major": 2,
       "version_minor": 0
      },
      "text/plain": [
       "HBox(children=(IntProgress(value=0, max=2327), HTML(value='')))"
      ]
     },
     "metadata": {},
     "output_type": "display_data"
    },
    {
     "name": "stdout",
     "output_type": "stream",
     "text": [
      "\n",
      "Finish\n",
      "MLP\n",
      "정확도 :  0.49935539321014183\n",
      "정답 분포 : Up - 0.5212720240653201 Down - 0.47872797593467986\n",
      "Kappa : -0.013087771629558764\n",
      "Start Fitting..\n"
     ]
    },
    {
     "data": {
      "application/vnd.jupyter.widget-view+json": {
       "model_id": "",
       "version_major": 2,
       "version_minor": 0
      },
      "text/plain": [
       "HBox(children=(IntProgress(value=0, max=2327), HTML(value='')))"
      ]
     },
     "metadata": {},
     "output_type": "display_data"
    },
    {
     "name": "stdout",
     "output_type": "stream",
     "text": [
      "\n",
      "Finish\n",
      "KNN\n",
      "정확도 :  0.4954877524709927\n",
      "정답 분포 : Up - 0.5212720240653201 Down - 0.47872797593467986\n",
      "Kappa : -0.009596700579837636\n",
      "Start Fitting..\n"
     ]
    },
    {
     "data": {
      "application/vnd.jupyter.widget-view+json": {
       "model_id": "",
       "version_major": 2,
       "version_minor": 0
      },
      "text/plain": [
       "HBox(children=(IntProgress(value=0, max=2327), HTML(value='')))"
      ]
     },
     "metadata": {},
     "output_type": "display_data"
    },
    {
     "name": "stdout",
     "output_type": "stream",
     "text": [
      "\n",
      "Finish\n",
      "LogisticLinear\n",
      "정확도 :  0.4911903738719381\n",
      "정답 분포 : Up - 0.5212720240653201 Down - 0.47872797593467986\n",
      "Kappa : -0.028582777758281885\n",
      "Start Fitting..\n"
     ]
    },
    {
     "data": {
      "application/vnd.jupyter.widget-view+json": {
       "model_id": "",
       "version_major": 2,
       "version_minor": 0
      },
      "text/plain": [
       "HBox(children=(IntProgress(value=0, max=2327), HTML(value='')))"
      ]
     },
     "metadata": {},
     "output_type": "display_data"
    },
    {
     "name": "stdout",
     "output_type": "stream",
     "text": [
      "\n",
      "Finish\n",
      "LDA\n",
      "정확도 :  0.5100988397077783\n",
      "정답 분포 : Up - 0.5212720240653201 Down - 0.47872797593467986\n",
      "Kappa : 0.018852320774982334\n",
      "\n"
     ]
    }
   ],
   "source": [
    "for idx,base_model in enumerate(tqdm_notebook(classifier_set.values())) :\n",
    "    model_predict, ground_truth, model_acc = continual_learning(model = base_model, data = kospi, del_var= var_set,\n",
    "                                                               target_var = \"clf_target\", train_volum = 100, \n",
    "                                                                train_start_idx = 0)\n",
    "    results_set[[x for x in classifier_set.keys()][idx]] = (model_predict, ground_truth, model_acc)\n",
    "    print([x for x in classifier_set.keys()][idx])\n",
    "    model_performance(model_acc,ground_truth,model_predict)"
   ]
  },
  {
   "cell_type": "markdown",
   "metadata": {},
   "source": [
    "# continual learning with sampling"
   ]
  },
  {
   "cell_type": "code",
   "execution_count": 155,
   "metadata": {},
   "outputs": [
    {
     "name": "stdout",
     "output_type": "stream",
     "text": [
      "Start Fitting..\n"
     ]
    },
    {
     "data": {
      "application/vnd.jupyter.widget-view+json": {
       "model_id": "",
       "version_major": 2,
       "version_minor": 0
      },
      "text/plain": [
       "HBox(children=(IntProgress(value=0, max=2327), HTML(value='')))"
      ]
     },
     "metadata": {},
     "output_type": "display_data"
    },
    {
     "name": "stdout",
     "output_type": "stream",
     "text": [
      "\n",
      "Finish\n"
     ]
    }
   ],
   "source": [
    "model_predict, ground_truth, model_acc = continual_learning_with_sampling(model = LightGBM_base, data = kospi, del_var= var_set,\n",
    "                                                           target_var = \"clf_target\", train_volum = 100, \n",
    "                                                            train_start_idx = 0)"
   ]
  },
  {
   "cell_type": "code",
   "execution_count": 156,
   "metadata": {
    "scrolled": true
   },
   "outputs": [
    {
     "name": "stdout",
     "output_type": "stream",
     "text": [
      "정확도 :  0.5109583154275892\n",
      "정답 분포 : Up - 0.5212720240653201 Down - 0.47872797593467986\n",
      "Kappa : 0.022434936690169383\n"
     ]
    }
   ],
   "source": [
    "model_performance(model_acc,ground_truth,model_predict)"
   ]
  },
  {
   "cell_type": "markdown",
   "metadata": {},
   "source": [
    "#### 기본 모델 test"
   ]
  },
  {
   "cell_type": "code",
   "execution_count": 157,
   "metadata": {},
   "outputs": [],
   "source": [
    "results_sampling_set = {}"
   ]
  },
  {
   "cell_type": "code",
   "execution_count": 158,
   "metadata": {
    "scrolled": false
   },
   "outputs": [
    {
     "data": {
      "application/vnd.jupyter.widget-view+json": {
       "model_id": "61dcf73b06d4449c9686bfbd24258161",
       "version_major": 2,
       "version_minor": 0
      },
      "text/plain": [
       "HBox(children=(IntProgress(value=0, max=10), HTML(value='')))"
      ]
     },
     "metadata": {},
     "output_type": "display_data"
    },
    {
     "name": "stdout",
     "output_type": "stream",
     "text": [
      "Start Fitting..\n"
     ]
    },
    {
     "data": {
      "application/vnd.jupyter.widget-view+json": {
       "model_id": "9a7c353ce4bd4651b237c5f0a4e31e00",
       "version_major": 2,
       "version_minor": 0
      },
      "text/plain": [
       "HBox(children=(IntProgress(value=0, max=2327), HTML(value='')))"
      ]
     },
     "metadata": {},
     "output_type": "display_data"
    },
    {
     "name": "stdout",
     "output_type": "stream",
     "text": [
      "\n",
      "Finish\n",
      "SVM\n",
      "정확도 :  0.4860335195530726\n",
      "정답 분포 : Up - 0.5212720240653201 Down - 0.47872797593467986\n",
      "Kappa : -0.040931219274282116\n",
      "Start Fitting..\n"
     ]
    },
    {
     "data": {
      "application/vnd.jupyter.widget-view+json": {
       "model_id": "94f6f7d26ef54f3ea1be270087b99bd1",
       "version_major": 2,
       "version_minor": 0
      },
      "text/plain": [
       "HBox(children=(IntProgress(value=0, max=2327), HTML(value='')))"
      ]
     },
     "metadata": {},
     "output_type": "display_data"
    },
    {
     "name": "stdout",
     "output_type": "stream",
     "text": [
      "\n",
      "Finish\n",
      "DT\n",
      "정확도 :  0.5100988397077783\n",
      "정답 분포 : Up - 0.5212720240653201 Down - 0.47872797593467986\n",
      "Kappa : 0.02057371892380455\n",
      "Start Fitting..\n"
     ]
    },
    {
     "data": {
      "application/vnd.jupyter.widget-view+json": {
       "model_id": "70cc16ca963b47a69f09b811dddb2eb3",
       "version_major": 2,
       "version_minor": 0
      },
      "text/plain": [
       "HBox(children=(IntProgress(value=0, max=2327), HTML(value='')))"
      ]
     },
     "metadata": {},
     "output_type": "display_data"
    },
    {
     "name": "stdout",
     "output_type": "stream",
     "text": [
      "\n",
      "Finish\n",
      "AdaBoost\n",
      "정확도 :  0.5161151697464547\n",
      "정답 분포 : Up - 0.5212720240653201 Down - 0.47872797593467986\n",
      "Kappa : 0.032955230755262854\n",
      "Start Fitting..\n"
     ]
    },
    {
     "data": {
      "application/vnd.jupyter.widget-view+json": {
       "model_id": "b87e0f31e9a84371a87322fe72d8ab2d",
       "version_major": 2,
       "version_minor": 0
      },
      "text/plain": [
       "HBox(children=(IntProgress(value=0, max=2327), HTML(value='')))"
      ]
     },
     "metadata": {},
     "output_type": "display_data"
    },
    {
     "name": "stdout",
     "output_type": "stream",
     "text": [
      "\n",
      "Finish\n",
      "RF\n",
      "정확도 :  0.5143962183068328\n",
      "정답 분포 : Up - 0.5212720240653201 Down - 0.47872797593467986\n",
      "Kappa : 0.035090358793102516\n",
      "Start Fitting..\n"
     ]
    },
    {
     "data": {
      "application/vnd.jupyter.widget-view+json": {
       "model_id": "698259c080f148e480aa97efff800c92",
       "version_major": 2,
       "version_minor": 0
      },
      "text/plain": [
       "HBox(children=(IntProgress(value=0, max=2327), HTML(value='')))"
      ]
     },
     "metadata": {},
     "output_type": "display_data"
    },
    {
     "name": "stdout",
     "output_type": "stream",
     "text": [
      "\n",
      "Finish\n",
      "ExtraTree\n",
      "정확도 :  0.5019338203695746\n",
      "정답 분포 : Up - 0.5212720240653201 Down - 0.47872797593467986\n",
      "Kappa : 0.010291236412569904\n",
      "Start Fitting..\n"
     ]
    },
    {
     "data": {
      "application/vnd.jupyter.widget-view+json": {
       "model_id": "799f4a9412a7472c8b8772992ea6fbd1",
       "version_major": 2,
       "version_minor": 0
      },
      "text/plain": [
       "HBox(children=(IntProgress(value=0, max=2327), HTML(value='')))"
      ]
     },
     "metadata": {},
     "output_type": "display_data"
    },
    {
     "name": "stdout",
     "output_type": "stream",
     "text": [
      "\n",
      "Finish\n",
      "GBM\n",
      "정확도 :  0.5096691018478728\n",
      "정답 분포 : Up - 0.5212720240653201 Down - 0.47872797593467986\n",
      "Kappa : 0.019535385591406884\n",
      "Start Fitting..\n"
     ]
    },
    {
     "data": {
      "application/vnd.jupyter.widget-view+json": {
       "model_id": "8190542eb3a44529809923c2bd1406d3",
       "version_major": 2,
       "version_minor": 0
      },
      "text/plain": [
       "HBox(children=(IntProgress(value=0, max=2327), HTML(value='')))"
      ]
     },
     "metadata": {},
     "output_type": "display_data"
    },
    {
     "name": "stdout",
     "output_type": "stream",
     "text": [
      "\n",
      "Finish\n",
      "MLP\n",
      "정확도 :  0.4941985388912763\n",
      "정답 분포 : Up - 0.5212720240653201 Down - 0.47872797593467986\n",
      "Kappa : -0.01369717503167256\n",
      "Start Fitting..\n"
     ]
    },
    {
     "data": {
      "application/vnd.jupyter.widget-view+json": {
       "model_id": "90ef525979524bf2b86bc08f46b3d66c",
       "version_major": 2,
       "version_minor": 0
      },
      "text/plain": [
       "HBox(children=(IntProgress(value=0, max=2327), HTML(value='')))"
      ]
     },
     "metadata": {},
     "output_type": "display_data"
    },
    {
     "name": "stdout",
     "output_type": "stream",
     "text": [
      "\n",
      "Finish\n",
      "KNN\n",
      "정확도 :  0.5092393639879673\n",
      "정답 분포 : Up - 0.5212720240653201 Down - 0.47872797593467986\n",
      "Kappa : 0.016266524911748625\n",
      "Start Fitting..\n"
     ]
    },
    {
     "data": {
      "application/vnd.jupyter.widget-view+json": {
       "model_id": "c95ae6f730254f70bfb0958c46330dd8",
       "version_major": 2,
       "version_minor": 0
      },
      "text/plain": [
       "HBox(children=(IntProgress(value=0, max=2327), HTML(value='')))"
      ]
     },
     "metadata": {},
     "output_type": "display_data"
    },
    {
     "name": "stdout",
     "output_type": "stream",
     "text": [
      "\n",
      "Finish\n",
      "LogisticLinear\n",
      "정확도 :  0.49290932531155995\n",
      "정답 분포 : Up - 0.5212720240653201 Down - 0.47872797593467986\n",
      "Kappa : -0.02488056136160055\n",
      "Start Fitting..\n"
     ]
    },
    {
     "data": {
      "application/vnd.jupyter.widget-view+json": {
       "model_id": "2f94d7dc15b54dedbc333e8853fa6778",
       "version_major": 2,
       "version_minor": 0
      },
      "text/plain": [
       "HBox(children=(IntProgress(value=0, max=2327), HTML(value='')))"
      ]
     },
     "metadata": {},
     "output_type": "display_data"
    },
    {
     "name": "stdout",
     "output_type": "stream",
     "text": [
      "\n",
      "Finish\n",
      "LDA\n",
      "정확도 :  0.5088096261280619\n",
      "정답 분포 : Up - 0.5212720240653201 Down - 0.47872797593467986\n",
      "Kappa : 0.01522466187884619\n",
      "\n"
     ]
    }
   ],
   "source": [
    "for idx,base_model in enumerate(tqdm_notebook(classifier_set.values())) :\n",
    "    model_predict, ground_truth, model_acc = continual_learning_with_sampling(model = base_model, data = kospi, del_var= var_set,\n",
    "                                                               target_var = \"clf_target\", train_volum = 100, \n",
    "                                                                train_start_idx = 0)\n",
    "    results_sampling_set[[x for x in classifier_set.keys()][idx]] = (model_predict, ground_truth, model_acc)\n",
    "    print([x for x in classifier_set.keys()][idx])\n",
    "    model_performance(model_acc,ground_truth,model_predict)"
   ]
  },
  {
   "cell_type": "markdown",
   "metadata": {},
   "source": [
    "# 환율"
   ]
  },
  {
   "cell_type": "markdown",
   "metadata": {},
   "source": [
    "# continual learning with sampling"
   ]
  },
  {
   "cell_type": "code",
   "execution_count": 352,
   "metadata": {},
   "outputs": [],
   "source": [
    "var_set = ['date','clf_target',\"reg_target\"]"
   ]
  },
  {
   "cell_type": "code",
   "execution_count": 361,
   "metadata": {},
   "outputs": [],
   "source": [
    "exchange_df = pd.read_csv(save_file_path + \"KOSPI_환율.csv\")"
   ]
  },
  {
   "cell_type": "markdown",
   "metadata": {},
   "source": [
    "#### 타겟 변수 생성"
   ]
  },
  {
   "cell_type": "code",
   "execution_count": 376,
   "metadata": {},
   "outputs": [],
   "source": [
    "exchange_df = make_target(exchange_df)"
   ]
  },
  {
   "cell_type": "code",
   "execution_count": 363,
   "metadata": {},
   "outputs": [
    {
     "data": {
      "text/html": [
       "<div>\n",
       "<style scoped>\n",
       "    .dataframe tbody tr th:only-of-type {\n",
       "        vertical-align: middle;\n",
       "    }\n",
       "\n",
       "    .dataframe tbody tr th {\n",
       "        vertical-align: top;\n",
       "    }\n",
       "\n",
       "    .dataframe thead th {\n",
       "        text-align: right;\n",
       "    }\n",
       "</style>\n",
       "<table border=\"1\" class=\"dataframe\">\n",
       "  <thead>\n",
       "    <tr style=\"text-align: right;\">\n",
       "      <th></th>\n",
       "      <th>date</th>\n",
       "      <th>kopsi_현재가</th>\n",
       "      <th>kopsi_오픈</th>\n",
       "      <th>kopsi_고가</th>\n",
       "      <th>kopsi_저가</th>\n",
       "      <th>kopsi_거래량</th>\n",
       "      <th>kopsi_변동</th>\n",
       "      <th>GBP_USD내역_현재가</th>\n",
       "      <th>GBP_USD내역_오픈</th>\n",
       "      <th>GBP_USD내역_고가</th>\n",
       "      <th>...</th>\n",
       "      <th>미국달러지수선물내역_오픈</th>\n",
       "      <th>미국달러지수선물내역_고가</th>\n",
       "      <th>미국달러지수선물내역_저가</th>\n",
       "      <th>미국달러지수선물내역_거래량</th>\n",
       "      <th>미국달러지수선물내역_변동</th>\n",
       "      <th>USD_CNY_현재가</th>\n",
       "      <th>USD_CNY_오픈</th>\n",
       "      <th>USD_CNY_고가</th>\n",
       "      <th>USD_CNY_저가</th>\n",
       "      <th>USD_CNY_변동</th>\n",
       "    </tr>\n",
       "  </thead>\n",
       "  <tbody>\n",
       "    <tr>\n",
       "      <th>0</th>\n",
       "      <td>2010-01-04</td>\n",
       "      <td>1696.14</td>\n",
       "      <td>1681.71</td>\n",
       "      <td>1696.14</td>\n",
       "      <td>1681.71</td>\n",
       "      <td>296550000.0</td>\n",
       "      <td>0.79</td>\n",
       "      <td>1.6097</td>\n",
       "      <td>1.6127</td>\n",
       "      <td>1.6242</td>\n",
       "      <td>...</td>\n",
       "      <td>78.355</td>\n",
       "      <td>78.590</td>\n",
       "      <td>77.575</td>\n",
       "      <td>18390.0</td>\n",
       "      <td>-0.59</td>\n",
       "      <td>6.8285</td>\n",
       "      <td>6.8297</td>\n",
       "      <td>6.8297</td>\n",
       "      <td>6.8270</td>\n",
       "      <td>0.02</td>\n",
       "    </tr>\n",
       "    <tr>\n",
       "      <th>1</th>\n",
       "      <td>2010-01-05</td>\n",
       "      <td>1690.62</td>\n",
       "      <td>1701.62</td>\n",
       "      <td>1702.39</td>\n",
       "      <td>1686.45</td>\n",
       "      <td>408850000.0</td>\n",
       "      <td>-0.33</td>\n",
       "      <td>1.5998</td>\n",
       "      <td>1.6092</td>\n",
       "      <td>1.6156</td>\n",
       "      <td>...</td>\n",
       "      <td>77.765</td>\n",
       "      <td>77.950</td>\n",
       "      <td>77.390</td>\n",
       "      <td>19300.0</td>\n",
       "      <td>0.03</td>\n",
       "      <td>6.8268</td>\n",
       "      <td>6.8283</td>\n",
       "      <td>6.8288</td>\n",
       "      <td>6.8257</td>\n",
       "      <td>-0.02</td>\n",
       "    </tr>\n",
       "    <tr>\n",
       "      <th>2</th>\n",
       "      <td>2010-01-06</td>\n",
       "      <td>1705.32</td>\n",
       "      <td>1697.88</td>\n",
       "      <td>1706.89</td>\n",
       "      <td>1696.10</td>\n",
       "      <td>426040000.0</td>\n",
       "      <td>0.87</td>\n",
       "      <td>1.6025</td>\n",
       "      <td>1.5991</td>\n",
       "      <td>1.6065</td>\n",
       "      <td>...</td>\n",
       "      <td>77.940</td>\n",
       "      <td>78.215</td>\n",
       "      <td>77.580</td>\n",
       "      <td>16010.0</td>\n",
       "      <td>-0.25</td>\n",
       "      <td>6.8278</td>\n",
       "      <td>6.8277</td>\n",
       "      <td>6.8291</td>\n",
       "      <td>6.8267</td>\n",
       "      <td>0.01</td>\n",
       "    </tr>\n",
       "    <tr>\n",
       "      <th>3</th>\n",
       "      <td>2010-01-07</td>\n",
       "      <td>1683.45</td>\n",
       "      <td>1702.92</td>\n",
       "      <td>1707.90</td>\n",
       "      <td>1683.45</td>\n",
       "      <td>462400000.0</td>\n",
       "      <td>-1.28</td>\n",
       "      <td>1.5935</td>\n",
       "      <td>1.6011</td>\n",
       "      <td>1.6060</td>\n",
       "      <td>...</td>\n",
       "      <td>77.615</td>\n",
       "      <td>78.270</td>\n",
       "      <td>77.600</td>\n",
       "      <td>15510.0</td>\n",
       "      <td>0.58</td>\n",
       "      <td>6.8281</td>\n",
       "      <td>6.8269</td>\n",
       "      <td>6.8282</td>\n",
       "      <td>6.8258</td>\n",
       "      <td>0.00</td>\n",
       "    </tr>\n",
       "    <tr>\n",
       "      <th>4</th>\n",
       "      <td>2010-01-08</td>\n",
       "      <td>1695.26</td>\n",
       "      <td>1694.06</td>\n",
       "      <td>1695.26</td>\n",
       "      <td>1668.84</td>\n",
       "      <td>379950000.0</td>\n",
       "      <td>0.70</td>\n",
       "      <td>1.6028</td>\n",
       "      <td>1.5934</td>\n",
       "      <td>1.6111</td>\n",
       "      <td>...</td>\n",
       "      <td>78.200</td>\n",
       "      <td>78.435</td>\n",
       "      <td>77.545</td>\n",
       "      <td>23910.0</td>\n",
       "      <td>-0.58</td>\n",
       "      <td>6.8276</td>\n",
       "      <td>6.8278</td>\n",
       "      <td>6.8285</td>\n",
       "      <td>6.8260</td>\n",
       "      <td>-0.01</td>\n",
       "    </tr>\n",
       "  </tbody>\n",
       "</table>\n",
       "<p>5 rows × 83 columns</p>\n",
       "</div>"
      ],
      "text/plain": [
       "         date  kopsi_현재가  kopsi_오픈  kopsi_고가  kopsi_저가    kopsi_거래량  kopsi_변동  \\\n",
       "0  2010-01-04    1696.14   1681.71   1696.14   1681.71  296550000.0      0.79   \n",
       "1  2010-01-05    1690.62   1701.62   1702.39   1686.45  408850000.0     -0.33   \n",
       "2  2010-01-06    1705.32   1697.88   1706.89   1696.10  426040000.0      0.87   \n",
       "3  2010-01-07    1683.45   1702.92   1707.90   1683.45  462400000.0     -1.28   \n",
       "4  2010-01-08    1695.26   1694.06   1695.26   1668.84  379950000.0      0.70   \n",
       "\n",
       "   GBP_USD내역_현재가  GBP_USD내역_오픈  GBP_USD내역_고가  ...  미국달러지수선물내역_오픈  \\\n",
       "0         1.6097        1.6127        1.6242  ...         78.355   \n",
       "1         1.5998        1.6092        1.6156  ...         77.765   \n",
       "2         1.6025        1.5991        1.6065  ...         77.940   \n",
       "3         1.5935        1.6011        1.6060  ...         77.615   \n",
       "4         1.6028        1.5934        1.6111  ...         78.200   \n",
       "\n",
       "   미국달러지수선물내역_고가  미국달러지수선물내역_저가  미국달러지수선물내역_거래량  미국달러지수선물내역_변동  USD_CNY_현재가  \\\n",
       "0         78.590         77.575         18390.0          -0.59       6.8285   \n",
       "1         77.950         77.390         19300.0           0.03       6.8268   \n",
       "2         78.215         77.580         16010.0          -0.25       6.8278   \n",
       "3         78.270         77.600         15510.0           0.58       6.8281   \n",
       "4         78.435         77.545         23910.0          -0.58       6.8276   \n",
       "\n",
       "   USD_CNY_오픈  USD_CNY_고가  USD_CNY_저가  USD_CNY_변동  \n",
       "0      6.8297      6.8297      6.8270        0.02  \n",
       "1      6.8283      6.8288      6.8257       -0.02  \n",
       "2      6.8277      6.8291      6.8267        0.01  \n",
       "3      6.8269      6.8282      6.8258        0.00  \n",
       "4      6.8278      6.8285      6.8260       -0.01  \n",
       "\n",
       "[5 rows x 83 columns]"
      ]
     },
     "execution_count": 363,
     "metadata": {},
     "output_type": "execute_result"
    }
   ],
   "source": [
    "exchange_df.head()"
   ]
  },
  {
   "cell_type": "code",
   "execution_count": 354,
   "metadata": {
    "scrolled": true
   },
   "outputs": [
    {
     "name": "stdout",
     "output_type": "stream",
     "text": [
      "Start Fitting..\n"
     ]
    },
    {
     "data": {
      "application/vnd.jupyter.widget-view+json": {
       "model_id": "7a6b914b4df149fcb3465b46c5760b30",
       "version_major": 2,
       "version_minor": 0
      },
      "text/plain": [
       "HBox(children=(IntProgress(value=0, max=2319), HTML(value='')))"
      ]
     },
     "metadata": {},
     "output_type": "display_data"
    },
    {
     "name": "stdout",
     "output_type": "stream",
     "text": [
      "\n",
      "Finish\n"
     ]
    }
   ],
   "source": [
    "model_predict, ground_truth, model_acc = continual_learning_with_sampling(model = LightGBM_base, data = exchange_df, del_var= var_set,\n",
    "                                                           target_var = \"clf_target\", train_volum = 100, \n",
    "                                                            train_start_idx = 0)"
   ]
  },
  {
   "cell_type": "code",
   "execution_count": 355,
   "metadata": {
    "scrolled": false
   },
   "outputs": [
    {
     "name": "stdout",
     "output_type": "stream",
     "text": [
      "정확도 :  0.5416127641224666\n",
      "정답 분포 : Up - 0.5213454075032341 Down - 0.47865459249676584\n",
      "Kappa : 0.08266824746664525\n"
     ]
    }
   ],
   "source": [
    "model_performance(model_acc,ground_truth,model_predict)"
   ]
  },
  {
   "cell_type": "code",
   "execution_count": null,
   "metadata": {},
   "outputs": [],
   "source": []
  },
  {
   "cell_type": "markdown",
   "metadata": {},
   "source": [
    "# 채권"
   ]
  },
  {
   "cell_type": "code",
   "execution_count": 373,
   "metadata": {},
   "outputs": [],
   "source": [
    "bond_df = pd.read_csv(save_file_path + \"KOSPI_채권.csv\")"
   ]
  },
  {
   "cell_type": "markdown",
   "metadata": {},
   "source": [
    "#### 타겟 변수 생성"
   ]
  },
  {
   "cell_type": "code",
   "execution_count": 376,
   "metadata": {},
   "outputs": [],
   "source": [
    "bond_df = make_target(bond_df)"
   ]
  },
  {
   "cell_type": "code",
   "execution_count": null,
   "metadata": {},
   "outputs": [],
   "source": [
    "bond_df.head()"
   ]
  },
  {
   "cell_type": "code",
   "execution_count": 378,
   "metadata": {
    "scrolled": true
   },
   "outputs": [
    {
     "name": "stdout",
     "output_type": "stream",
     "text": [
      "Start Fitting..\n"
     ]
    },
    {
     "data": {
      "application/vnd.jupyter.widget-view+json": {
       "model_id": "11f185c76d924b3c897a62c3115a17c7",
       "version_major": 2,
       "version_minor": 0
      },
      "text/plain": [
       "HBox(children=(IntProgress(value=0, max=2327), HTML(value='')))"
      ]
     },
     "metadata": {},
     "output_type": "display_data"
    },
    {
     "name": "stdout",
     "output_type": "stream",
     "text": [
      "\n",
      "Finish\n"
     ]
    }
   ],
   "source": [
    "model_predict, ground_truth, model_acc = continual_learning_with_sampling(model = LightGBM_base, data = bond_df, del_var= var_set,\n",
    "                                                           target_var = \"clf_target\", train_volum = 100, \n",
    "                                                            train_start_idx = 0)"
   ]
  },
  {
   "cell_type": "code",
   "execution_count": 379,
   "metadata": {},
   "outputs": [
    {
     "name": "stdout",
     "output_type": "stream",
     "text": [
      "정확도 :  0.5165449076063601\n",
      "정답 분포 : Up - 0.5212720240653201 Down - 0.47872797593467986\n",
      "Kappa : 0.03030640891390257\n"
     ]
    }
   ],
   "source": [
    "model_performance(model_acc,ground_truth,model_predict)"
   ]
  },
  {
   "cell_type": "code",
   "execution_count": null,
   "metadata": {},
   "outputs": [],
   "source": []
  },
  {
   "cell_type": "markdown",
   "metadata": {},
   "source": [
    "# 주식"
   ]
  },
  {
   "cell_type": "code",
   "execution_count": 380,
   "metadata": {},
   "outputs": [],
   "source": [
    "stock_df = pd.read_csv(save_file_path + \"KOSPI_주식.csv\")"
   ]
  },
  {
   "cell_type": "markdown",
   "metadata": {},
   "source": [
    "#### 타겟 변수 생성"
   ]
  },
  {
   "cell_type": "code",
   "execution_count": 381,
   "metadata": {},
   "outputs": [],
   "source": [
    "stock_df = make_target(stock_df)"
   ]
  },
  {
   "cell_type": "code",
   "execution_count": 382,
   "metadata": {},
   "outputs": [
    {
     "name": "stdout",
     "output_type": "stream",
     "text": [
      "Start Fitting..\n"
     ]
    },
    {
     "data": {
      "application/vnd.jupyter.widget-view+json": {
       "model_id": "d9da8dbbec094f68a579f8e98a35f87a",
       "version_major": 2,
       "version_minor": 0
      },
      "text/plain": [
       "HBox(children=(IntProgress(value=0, max=2327), HTML(value='')))"
      ]
     },
     "metadata": {},
     "output_type": "display_data"
    },
    {
     "name": "stdout",
     "output_type": "stream",
     "text": [
      "\n",
      "Finish\n"
     ]
    }
   ],
   "source": [
    "model_predict, ground_truth, model_acc = continual_learning_with_sampling(model = LightGBM_base, data = stock_df, del_var= var_set,\n",
    "                                                           target_var = \"clf_target\", train_volum = 100, \n",
    "                                                            train_start_idx = 0)"
   ]
  },
  {
   "cell_type": "code",
   "execution_count": 383,
   "metadata": {
    "scrolled": true
   },
   "outputs": [
    {
     "name": "stdout",
     "output_type": "stream",
     "text": [
      "정확도 :  0.5509239363987968\n",
      "정답 분포 : Up - 0.5212720240653201 Down - 0.47872797593467986\n",
      "Kappa : 0.09939450144050799\n"
     ]
    }
   ],
   "source": [
    "model_performance(model_acc,ground_truth,model_predict)"
   ]
  },
  {
   "cell_type": "code",
   "execution_count": null,
   "metadata": {},
   "outputs": [],
   "source": []
  },
  {
   "cell_type": "markdown",
   "metadata": {},
   "source": [
    "# 지수"
   ]
  },
  {
   "cell_type": "code",
   "execution_count": 384,
   "metadata": {},
   "outputs": [],
   "source": [
    "index_df = pd.read_csv(save_file_path + \"KOSPI_지수.csv\")"
   ]
  },
  {
   "cell_type": "markdown",
   "metadata": {},
   "source": [
    "#### 타겟 변수 생성"
   ]
  },
  {
   "cell_type": "code",
   "execution_count": 385,
   "metadata": {},
   "outputs": [],
   "source": [
    "index_df = make_target(index_df)"
   ]
  },
  {
   "cell_type": "code",
   "execution_count": 386,
   "metadata": {},
   "outputs": [
    {
     "name": "stdout",
     "output_type": "stream",
     "text": [
      "Start Fitting..\n"
     ]
    },
    {
     "data": {
      "application/vnd.jupyter.widget-view+json": {
       "model_id": "ff600e446a6f4bdbb03259f0683abd45",
       "version_major": 2,
       "version_minor": 0
      },
      "text/plain": [
       "HBox(children=(IntProgress(value=0, max=2327), HTML(value='')))"
      ]
     },
     "metadata": {},
     "output_type": "display_data"
    },
    {
     "name": "stdout",
     "output_type": "stream",
     "text": [
      "\n",
      "Finish\n"
     ]
    }
   ],
   "source": [
    "model_predict, ground_truth, model_acc = continual_learning_with_sampling(model = LightGBM_base, data = index_df, del_var= var_set,\n",
    "                                                           target_var = \"clf_target\", train_volum = 100, \n",
    "                                                            train_start_idx = 0)"
   ]
  },
  {
   "cell_type": "code",
   "execution_count": 387,
   "metadata": {},
   "outputs": [
    {
     "name": "stdout",
     "output_type": "stream",
     "text": [
      "정확도 :  0.5745595186935969\n",
      "정답 분포 : Up - 0.5212720240653201 Down - 0.47872797593467986\n",
      "Kappa : 0.14770103886110042\n"
     ]
    }
   ],
   "source": [
    "model_performance(model_acc,ground_truth,model_predict)"
   ]
  },
  {
   "cell_type": "code",
   "execution_count": null,
   "metadata": {},
   "outputs": [],
   "source": []
  },
  {
   "cell_type": "markdown",
   "metadata": {},
   "source": [
    "# 원자재"
   ]
  },
  {
   "cell_type": "code",
   "execution_count": 407,
   "metadata": {},
   "outputs": [],
   "source": [
    "material_df = pd.read_csv(save_file_path + \"KOSPI_원자재.csv\")"
   ]
  },
  {
   "cell_type": "markdown",
   "metadata": {},
   "source": [
    "#### 타겟 변수 생성"
   ]
  },
  {
   "cell_type": "code",
   "execution_count": 408,
   "metadata": {},
   "outputs": [],
   "source": [
    "material_df = make_target(material_df)"
   ]
  },
  {
   "cell_type": "code",
   "execution_count": 390,
   "metadata": {
    "scrolled": true
   },
   "outputs": [
    {
     "name": "stdout",
     "output_type": "stream",
     "text": [
      "Start Fitting..\n"
     ]
    },
    {
     "data": {
      "application/vnd.jupyter.widget-view+json": {
       "model_id": "",
       "version_major": 2,
       "version_minor": 0
      },
      "text/plain": [
       "HBox(children=(IntProgress(value=0, max=2327), HTML(value='')))"
      ]
     },
     "metadata": {},
     "output_type": "display_data"
    },
    {
     "name": "stdout",
     "output_type": "stream",
     "text": [
      "\n",
      "Finish\n"
     ]
    }
   ],
   "source": [
    "model_predict, ground_truth, model_acc = continual_learning_with_sampling(model = LightGBM_base, data = material_df, del_var= var_set,\n",
    "                                                           target_var = \"clf_target\", train_volum = 100, \n",
    "                                                            train_start_idx = 0)"
   ]
  },
  {
   "cell_type": "code",
   "execution_count": 391,
   "metadata": {
    "scrolled": false
   },
   "outputs": [
    {
     "name": "stdout",
     "output_type": "stream",
     "text": [
      "정확도 :  0.5238504512247529\n",
      "정답 분포 : Up - 0.5212720240653201 Down - 0.47872797593467986\n",
      "Kappa : 0.044924533096458164\n"
     ]
    }
   ],
   "source": [
    "model_performance(model_acc,ground_truth,model_predict)"
   ]
  },
  {
   "cell_type": "code",
   "execution_count": null,
   "metadata": {},
   "outputs": [],
   "source": []
  },
  {
   "cell_type": "code",
   "execution_count": 403,
   "metadata": {},
   "outputs": [],
   "source": [
    "from ngboost.ngboost import NGBoost\n",
    "from ngboost.learners import default_tree_learner\n",
    "from ngboost.scores import MLE\n",
    "from ngboost.distns import Normal\n",
    "\n",
    "from sklearn.datasets import load_boston\n",
    "from sklearn.model_selection import train_test_split\n",
    "from sklearn.metrics import mean_squared_error"
   ]
  },
  {
   "cell_type": "code",
   "execution_count": 404,
   "metadata": {},
   "outputs": [
    {
     "name": "stdout",
     "output_type": "stream",
     "text": [
      "Test MSE 11.191782986778595\n",
      "Test NLL 2.6686430306101885\n"
     ]
    }
   ],
   "source": [
    "X, Y = load_boston(True)\n",
    "X_train, X_test, Y_train, Y_test = train_test_split(X, Y, test_size=0.2)\n",
    "\n",
    "ngb = NGBoost(Base=default_tree_learner, Dist=Normal, Score=MLE(), natural_gradient=True,\n",
    "              verbose=False)\n",
    "ngb.fit(X_train, Y_train)\n",
    "Y_preds = ngb.predict(X_test)\n",
    "Y_dists = ngb.pred_dist(X_test)\n",
    "\n",
    "# test Mean Squared Error\n",
    "test_MSE = mean_squared_error(Y_preds, Y_test)\n",
    "print('Test MSE', test_MSE)\n",
    "\n",
    "#test Negative Log Likelihood\n",
    "test_NLL = -Y_dists.logpdf(Y_test.flatten()).mean()\n",
    "print('Test NLL', test_NLL)"
   ]
  },
  {
   "cell_type": "code",
   "execution_count": 409,
   "metadata": {
    "scrolled": true
   },
   "outputs": [
    {
     "name": "stdout",
     "output_type": "stream",
     "text": [
      "Start Fitting..\n"
     ]
    },
    {
     "data": {
      "application/vnd.jupyter.widget-view+json": {
       "model_id": "cd3493df9df942f4ab3998e2232077a0",
       "version_major": 2,
       "version_minor": 0
      },
      "text/plain": [
       "HBox(children=(IntProgress(value=0, max=2327), HTML(value='')))"
      ]
     },
     "metadata": {},
     "output_type": "display_data"
    },
    {
     "ename": "TypeError",
     "evalue": "unsupported operand type(s) for /: 'str' and 'int'",
     "output_type": "error",
     "traceback": [
      "\u001b[0;31m---------------------------------------------------------------------------\u001b[0m",
      "\u001b[0;31mTypeError\u001b[0m                                 Traceback (most recent call last)",
      "\u001b[0;32m<ipython-input-409-60f43965446a>\u001b[0m in \u001b[0;36m<module>\u001b[0;34m()\u001b[0m\n\u001b[1;32m      1\u001b[0m model_predict, ground_truth, model_acc = continual_learning_with_sampling(model = ngb, data = material_df, del_var= var_set,\n\u001b[1;32m      2\u001b[0m                                                            \u001b[0mtarget_var\u001b[0m \u001b[0;34m=\u001b[0m \u001b[0;34m\"clf_target\"\u001b[0m\u001b[0;34m,\u001b[0m \u001b[0mtrain_volum\u001b[0m \u001b[0;34m=\u001b[0m \u001b[0;36m100\u001b[0m\u001b[0;34m,\u001b[0m\u001b[0;34m\u001b[0m\u001b[0m\n\u001b[0;32m----> 3\u001b[0;31m                                                             train_start_idx = 0)\n\u001b[0m",
      "\u001b[0;32m<ipython-input-351-c0dea5fa0b5b>\u001b[0m in \u001b[0;36mcontinual_learning_with_sampling\u001b[0;34m(model, data, del_var, target_var, train_volum, train_start_idx, sample_days, sample_cnt)\u001b[0m\n\u001b[1;32m     22\u001b[0m \u001b[0;34m\u001b[0m\u001b[0m\n\u001b[1;32m     23\u001b[0m         \u001b[0;31m# fitting\u001b[0m\u001b[0;34m\u001b[0m\u001b[0;34m\u001b[0m\u001b[0m\n\u001b[0;32m---> 24\u001b[0;31m         \u001b[0mmodel\u001b[0m\u001b[0;34m.\u001b[0m\u001b[0mfit\u001b[0m\u001b[0;34m(\u001b[0m\u001b[0mtmp_train_x\u001b[0m\u001b[0;34m,\u001b[0m\u001b[0mtmp_train_y\u001b[0m\u001b[0;34m)\u001b[0m\u001b[0;34m\u001b[0m\u001b[0m\n\u001b[0m\u001b[1;32m     25\u001b[0m         \u001b[0;31m# predict\u001b[0m\u001b[0;34m\u001b[0m\u001b[0;34m\u001b[0m\u001b[0m\n\u001b[1;32m     26\u001b[0m         \u001b[0mpredict_value\u001b[0m \u001b[0;34m=\u001b[0m \u001b[0mmodel\u001b[0m\u001b[0;34m.\u001b[0m\u001b[0mpredict\u001b[0m\u001b[0;34m(\u001b[0m\u001b[0mtmp_test_x\u001b[0m\u001b[0;34m)\u001b[0m\u001b[0;34m\u001b[0m\u001b[0m\n",
      "\u001b[0;32m~/anaconda3/lib/python3.6/site-packages/ngboost/ngboost.py\u001b[0m in \u001b[0;36mfit\u001b[0;34m(self, X, Y, X_val, Y_val, train_loss_monitor, val_loss_monitor)\u001b[0m\n\u001b[1;32m     74\u001b[0m         \u001b[0mloss_list\u001b[0m \u001b[0;34m=\u001b[0m \u001b[0;34m[\u001b[0m\u001b[0;34m]\u001b[0m\u001b[0;34m\u001b[0m\u001b[0m\n\u001b[1;32m     75\u001b[0m         \u001b[0mval_loss_list\u001b[0m \u001b[0;34m=\u001b[0m \u001b[0;34m[\u001b[0m\u001b[0;34m]\u001b[0m\u001b[0;34m\u001b[0m\u001b[0m\n\u001b[0;32m---> 76\u001b[0;31m         \u001b[0mself\u001b[0m\u001b[0;34m.\u001b[0m\u001b[0mfit_init_params_to_marginal\u001b[0m\u001b[0;34m(\u001b[0m\u001b[0mY\u001b[0m\u001b[0;34m)\u001b[0m\u001b[0;34m\u001b[0m\u001b[0m\n\u001b[0m\u001b[1;32m     77\u001b[0m \u001b[0;34m\u001b[0m\u001b[0m\n\u001b[1;32m     78\u001b[0m         \u001b[0mparams\u001b[0m \u001b[0;34m=\u001b[0m \u001b[0mself\u001b[0m\u001b[0;34m.\u001b[0m\u001b[0mpred_param\u001b[0m\u001b[0;34m(\u001b[0m\u001b[0mX\u001b[0m\u001b[0;34m)\u001b[0m\u001b[0;34m\u001b[0m\u001b[0m\n",
      "\u001b[0;32m~/anaconda3/lib/python3.6/site-packages/ngboost/ngboost.py\u001b[0m in \u001b[0;36mfit_init_params_to_marginal\u001b[0;34m(self, Y, iters)\u001b[0m\n\u001b[1;32m    131\u001b[0m         \u001b[0;32mexcept\u001b[0m\u001b[0;34m:\u001b[0m\u001b[0;34m\u001b[0m\u001b[0m\n\u001b[1;32m    132\u001b[0m             \u001b[0mT\u001b[0m \u001b[0;34m=\u001b[0m \u001b[0mY\u001b[0m\u001b[0;34m\u001b[0m\u001b[0m\n\u001b[0;32m--> 133\u001b[0;31m         \u001b[0mself\u001b[0m\u001b[0;34m.\u001b[0m\u001b[0minit_params\u001b[0m \u001b[0;34m=\u001b[0m \u001b[0mself\u001b[0m\u001b[0;34m.\u001b[0m\u001b[0mDist\u001b[0m\u001b[0;34m.\u001b[0m\u001b[0mfit\u001b[0m\u001b[0;34m(\u001b[0m\u001b[0mT\u001b[0m\u001b[0;34m)\u001b[0m\u001b[0;34m\u001b[0m\u001b[0m\n\u001b[0m\u001b[1;32m    134\u001b[0m         \u001b[0;32mreturn\u001b[0m\u001b[0;34m\u001b[0m\u001b[0m\n\u001b[1;32m    135\u001b[0m \u001b[0;34m\u001b[0m\u001b[0m\n",
      "\u001b[0;32m~/anaconda3/lib/python3.6/site-packages/ngboost/distns/normal.py\u001b[0m in \u001b[0;36mfit\u001b[0;34m(Y)\u001b[0m\n\u001b[1;32m     51\u001b[0m \u001b[0;34m\u001b[0m\u001b[0m\n\u001b[1;32m     52\u001b[0m     \u001b[0;32mdef\u001b[0m \u001b[0mfit\u001b[0m\u001b[0;34m(\u001b[0m\u001b[0mY\u001b[0m\u001b[0;34m)\u001b[0m\u001b[0;34m:\u001b[0m\u001b[0;34m\u001b[0m\u001b[0m\n\u001b[0;32m---> 53\u001b[0;31m         \u001b[0mm\u001b[0m\u001b[0;34m,\u001b[0m \u001b[0ms\u001b[0m \u001b[0;34m=\u001b[0m \u001b[0msp\u001b[0m\u001b[0;34m.\u001b[0m\u001b[0mstats\u001b[0m\u001b[0;34m.\u001b[0m\u001b[0mnorm\u001b[0m\u001b[0;34m.\u001b[0m\u001b[0mfit\u001b[0m\u001b[0;34m(\u001b[0m\u001b[0mY\u001b[0m\u001b[0;34m)\u001b[0m\u001b[0;34m\u001b[0m\u001b[0m\n\u001b[0m\u001b[1;32m     54\u001b[0m         \u001b[0;32mreturn\u001b[0m \u001b[0mnp\u001b[0m\u001b[0;34m.\u001b[0m\u001b[0marray\u001b[0m\u001b[0;34m(\u001b[0m\u001b[0;34m[\u001b[0m\u001b[0mm\u001b[0m\u001b[0;34m,\u001b[0m \u001b[0mnp\u001b[0m\u001b[0;34m.\u001b[0m\u001b[0mlog\u001b[0m\u001b[0;34m(\u001b[0m\u001b[0ms\u001b[0m\u001b[0;34m)\u001b[0m\u001b[0;34m]\u001b[0m\u001b[0;34m)\u001b[0m\u001b[0;34m\u001b[0m\u001b[0m\n\u001b[1;32m     55\u001b[0m         \u001b[0;31m#return np.array([m, np.log(1e-5)])\u001b[0m\u001b[0;34m\u001b[0m\u001b[0;34m\u001b[0m\u001b[0m\n",
      "\u001b[0;32m~/anaconda3/lib/python3.6/site-packages/scipy/stats/_continuous_distns.py\u001b[0m in \u001b[0;36mfit\u001b[0;34m(self, data, **kwds)\u001b[0m\n\u001b[1;32m    266\u001b[0m \u001b[0;34m\u001b[0m\u001b[0m\n\u001b[1;32m    267\u001b[0m         \u001b[0;32mif\u001b[0m \u001b[0mfloc\u001b[0m \u001b[0;32mis\u001b[0m \u001b[0;32mNone\u001b[0m\u001b[0;34m:\u001b[0m\u001b[0;34m\u001b[0m\u001b[0m\n\u001b[0;32m--> 268\u001b[0;31m             \u001b[0mloc\u001b[0m \u001b[0;34m=\u001b[0m \u001b[0mdata\u001b[0m\u001b[0;34m.\u001b[0m\u001b[0mmean\u001b[0m\u001b[0;34m(\u001b[0m\u001b[0;34m)\u001b[0m\u001b[0;34m\u001b[0m\u001b[0m\n\u001b[0m\u001b[1;32m    269\u001b[0m         \u001b[0;32melse\u001b[0m\u001b[0;34m:\u001b[0m\u001b[0;34m\u001b[0m\u001b[0m\n\u001b[1;32m    270\u001b[0m             \u001b[0mloc\u001b[0m \u001b[0;34m=\u001b[0m \u001b[0mfloc\u001b[0m\u001b[0;34m\u001b[0m\u001b[0m\n",
      "\u001b[0;32m~/anaconda3/lib/python3.6/site-packages/numpy/core/_methods.py\u001b[0m in \u001b[0;36m_mean\u001b[0;34m(a, axis, dtype, out, keepdims)\u001b[0m\n\u001b[1;32m     85\u001b[0m         \u001b[0;32mreturn\u001b[0m \u001b[0mufunc\u001b[0m\u001b[0;34m(\u001b[0m\u001b[0;34m*\u001b[0m\u001b[0margs\u001b[0m\u001b[0;34m,\u001b[0m \u001b[0mout\u001b[0m\u001b[0;34m=\u001b[0m\u001b[0mout\u001b[0m\u001b[0;34m,\u001b[0m \u001b[0;34m**\u001b[0m\u001b[0mkwargs\u001b[0m\u001b[0;34m)\u001b[0m\u001b[0;34m\u001b[0m\u001b[0m\n\u001b[1;32m     86\u001b[0m     \u001b[0;32mexcept\u001b[0m \u001b[0m_exceptions\u001b[0m\u001b[0;34m.\u001b[0m\u001b[0m_UFuncOutputCastingError\u001b[0m \u001b[0;32mas\u001b[0m \u001b[0me\u001b[0m\u001b[0;34m:\u001b[0m\u001b[0;34m\u001b[0m\u001b[0m\n\u001b[0;32m---> 87\u001b[0;31m         \u001b[0;31m# Numpy 1.17.0, 2019-02-24\u001b[0m\u001b[0;34m\u001b[0m\u001b[0;34m\u001b[0m\u001b[0m\n\u001b[0m\u001b[1;32m     88\u001b[0m         warnings.warn(\n\u001b[1;32m     89\u001b[0m             \u001b[0;34m\"Converting the output of clip from {!r} to {!r} is deprecated. \"\u001b[0m\u001b[0;34m\u001b[0m\u001b[0m\n",
      "\u001b[0;31mTypeError\u001b[0m: unsupported operand type(s) for /: 'str' and 'int'"
     ]
    }
   ],
   "source": [
    "model_predict, ground_truth, model_acc = continual_learning_with_sampling(model = ngb, data = material_df, del_var= var_set,\n",
    "                                                           target_var = \"clf_target\", train_volum = 100, \n",
    "                                                            train_start_idx = 0)"
   ]
  },
  {
   "cell_type": "code",
   "execution_count": null,
   "metadata": {},
   "outputs": [],
   "source": []
  },
  {
   "cell_type": "code",
   "execution_count": null,
   "metadata": {},
   "outputs": [],
   "source": []
  },
  {
   "cell_type": "markdown",
   "metadata": {},
   "source": [
    "# 참고사항"
   ]
  },
  {
   "cell_type": "markdown",
   "metadata": {},
   "source": [
    "#### multiple dataframe join\n",
    "https://stackoverflow.com/questions/23668427/pandas-three-way-joining-multiple-dataframes-on-columns"
   ]
  }
 ],
 "metadata": {
  "kernelspec": {
   "display_name": "Python 3",
   "language": "python",
   "name": "python3"
  },
  "language_info": {
   "codemirror_mode": {
    "name": "ipython",
    "version": 3
   },
   "file_extension": ".py",
   "mimetype": "text/x-python",
   "name": "python",
   "nbconvert_exporter": "python",
   "pygments_lexer": "ipython3",
   "version": "3.6.5"
  }
 },
 "nbformat": 4,
 "nbformat_minor": 2
}

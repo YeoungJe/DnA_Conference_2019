{
 "cells": [
  {
   "cell_type": "markdown",
   "metadata": {},
   "source": [
    "## Import"
   ]
  },
  {
   "cell_type": "code",
   "execution_count": 1,
   "metadata": {},
   "outputs": [],
   "source": [
    "from tqdm import tnrange\n",
    "from tqdm import tqdm\n",
    "from bs4 import BeautifulSoup\n",
    "from tqdm import tqdm_notebook\n",
    "from selenium.webdriver import Chrome\n",
    "from selenium.webdriver.common.action_chains import ActionChains\n",
    "from selenium.webdriver.common.keys import Keys\n",
    "\n",
    "import time\n",
    "import pandas as pd\n",
    "import numpy as np\n",
    "import re\n",
    "import requests"
   ]
  },
  {
   "cell_type": "markdown",
   "metadata": {},
   "source": [
    "# Setting"
   ]
  },
  {
   "cell_type": "code",
   "execution_count": 168,
   "metadata": {},
   "outputs": [],
   "source": [
    "# 크롬 브라우저 열기\n",
    "driver = Chrome(executable_path='/home/ubunt/chromedriver')"
   ]
  },
  {
   "cell_type": "code",
   "execution_count": 155,
   "metadata": {},
   "outputs": [],
   "source": [
    "# 단일 환율\n",
    "url = \"https://kr.investing.com/currencies/single-currency-crosses\"\n",
    "driver.get(url)"
   ]
  },
  {
   "cell_type": "code",
   "execution_count": 156,
   "metadata": {},
   "outputs": [],
   "source": [
    "download_file_path = \"/home/ubunt/Downloads/\"\n",
    "save_file_path = \"/home/ubunt/4-2/stock price/data/price/\""
   ]
  },
  {
   "cell_type": "markdown",
   "metadata": {},
   "source": [
    "# Functions"
   ]
  },
  {
   "cell_type": "code",
   "execution_count": 157,
   "metadata": {},
   "outputs": [],
   "source": [
    "def exchange_crawl(select_list, start_day) :\n",
    "    global driver\n",
    "    global download_file_path\n",
    "    global save_file_path\n",
    "    # 종목 이름 및 url\n",
    "    tmp_names = driver.find_elements_by_css_selector(\"div#cross_rates_container table#cr1 tbody > tr > td.bold.left.noWrap.elp.plusIconTd a\")\n",
    "    urls = [x.get_attribute(\"href\") for x in tmp_names]\n",
    "    # file name\n",
    "    tmp_file_name = driver.find_elements_by_css_selector(\"div#cross_rates_container table#cr1 tbody > tr > td.left.noWrap\")\n",
    "    file_name = [x.text for idx, x in enumerate(tmp_file_name) if idx % 2 == 1]\n",
    "    # 과거 데이터 url 적용\n",
    "    past_urls = [x + \"-historical-data\" for x in urls]\n",
    "    \n",
    "    for name, url in tqdm_notebook(zip(file_name, past_urls)) :\n",
    "        try :\n",
    "            if name in select_list :\n",
    "                driver.get(url)\n",
    "                driver.implicitly_wait(3)\n",
    "                # 날짜 입력란\n",
    "                tmp_date = driver.find_element_by_css_selector(\"div#widgetFieldDateRange\")\n",
    "                tmp_date.click()\n",
    "                driver.implicitly_wait(3)\n",
    "                tmp_intput = driver.find_element_by_css_selector(\"input#startDate\")\n",
    "                # 기존 날짜 지우기\n",
    "                for _ in range(11) :\n",
    "                    tmp_intput.send_keys(Keys.BACKSPACE)\n",
    "                    time.sleep(0.1)\n",
    "                # 2010/10/04 부터 시작\n",
    "                tmp_intput.send_keys(start_day)\n",
    "                # 요청 버튼\n",
    "                request_btn = driver.find_element_by_css_selector(\"a#applyBtn\")\n",
    "                request_btn.click()\n",
    "                time.sleep(5)\n",
    "\n",
    "                # 다운로드 버튼\n",
    "                download_btn = driver.find_element_by_css_selector(\"a.newBtn.LightGray.downloadBlueIcon.js-download-data\")\n",
    "                download_btn.click()\n",
    "            else :\n",
    "                continue\n",
    "        except :\n",
    "            pass\n",
    "    ## 컬럼명 변경\n",
    "    choice_file = [re.sub(\"/\",\"_\",x) + \" 내역.csv\" for x in select_list]\n",
    "    for file in tqdm_notebook(choice_file) :\n",
    "        a = pd.read_csv(download_file_path + file)\n",
    "        a['날짜'] = [cleansing(x) for x in a['날짜']]\n",
    "        new_column = ['date']\n",
    "        new_column.extend([re.sub(\" \",\"\",re.split(\" \",file)[0]) + \"_\" + del_per(x) for x in a.columns[1:]])\n",
    "        a.columns = new_column\n",
    "        a.to_csv(save_file_path + file, index = False)"
   ]
  },
  {
   "cell_type": "code",
   "execution_count": 170,
   "metadata": {},
   "outputs": [],
   "source": [
    "def exchange_gift_crawl(start_day) :\n",
    "    global driver\n",
    "    global download_file_path\n",
    "    global save_file_path\n",
    "    global select_list\n",
    "    \n",
    "    whole_file_name = []\n",
    "    tmp_names = driver.find_elements_by_css_selector(\"table#BarchartDataTable tbody tr td.bold.left.noWrap a\")\n",
    "    names = [x.text for x in tmp_names]\n",
    "    urls = [x.get_attribute(\"href\") for x in tmp_names]\n",
    "    \n",
    "    final_urls = [y for x, y in zip(names,urls) if \"(P)\" not in x]\n",
    "    for tmp_url in tqdm_notebook(final_urls) :\n",
    "        driver.get(tmp_url)\n",
    "        time.sleep(3)\n",
    "        tmp_urls2 = driver.find_elements_by_xpath(\"//ul[@id='pairSublinksLevel2']/li/a\")\n",
    "        past_data_idx = [idx + 1 for idx,x in enumerate(tmp_urls2) if x.text == \"과거 데이터\"][0]\n",
    "        tmp_url = driver.find_element_by_xpath(\"//ul[@id='pairSublinksLevel2']/li[{}]/a\".format(past_data_idx))\n",
    "        assert tmp_url.text == \"과거 데이터\"\n",
    "        tmp_url.click()\n",
    "        driver.implicitly_wait(6)\n",
    "\n",
    "        file_name = driver.find_element_by_css_selector(\"h2.float_lang_base_1.inlineblock\").text\n",
    "\n",
    "        if file_name in select_list :\n",
    "            continue\n",
    "\n",
    "        if \"/\" in file_name :\n",
    "            file_name = re.sub(\"/\",\"_\",file_name)\n",
    "        whole_file_name.append(file_name)\n",
    "\n",
    "        # 날짜 입력란\n",
    "        tmp_date = driver.find_element_by_css_selector(\"div#widgetFieldDateRange\")\n",
    "        tmp_date.click()\n",
    "        driver.implicitly_wait(3)\n",
    "        tmp_intput = driver.find_element_by_css_selector(\"input#startDate\")\n",
    "        # 기존 날짜 지우기\n",
    "        for _ in range(11) :\n",
    "            tmp_intput.send_keys(Keys.BACKSPACE)\n",
    "            time.sleep(0.1)\n",
    "        # 2010/10/04 부터 시작\n",
    "        tmp_intput.send_keys(start_day)\n",
    "        # 요청 버튼\n",
    "        request_btn = driver.find_element_by_css_selector(\"a#applyBtn\")\n",
    "        request_btn.click()\n",
    "        time.sleep(5)\n",
    "\n",
    "        # 다운로드 버튼\n",
    "        download_btn = driver.find_element_by_css_selector(\"a.newBtn.LightGray.downloadBlueIcon.js-download-data\")\n",
    "        download_btn.click()\n",
    "\n",
    "    ## 컬럼명 변경\n",
    "    choice_file = [x + \".csv\" for x in whole_file_name]\n",
    "    for file in tqdm_notebook(choice_file) :\n",
    "        a = pd.read_csv(download_file_path + file)\n",
    "        a['날짜'] = [cleansing(x) for x in a['날짜']]\n",
    "        new_column = ['date']\n",
    "        new_column.extend([re.sub(\" \",\"\",re.sub(\".csv\",\"\",file)) + \"_\" + del_per(x) for x in a.columns[1:]])\n",
    "        a.columns = new_column\n",
    "        a.to_csv(save_file_path + file, index = False)"
   ]
  },
  {
   "cell_type": "code",
   "execution_count": 227,
   "metadata": {},
   "outputs": [],
   "source": [
    "def bond_crawl(select_con,start_day) :\n",
    "    global driver\n",
    "    global download_file_path\n",
    "    global save_file_path\n",
    "\n",
    "    tmp_name_of_table = driver.find_elements_by_css_selector(\"table > tbody > tr > td > a\")\n",
    "    names = [x.text for x in tmp_name_of_table if x.text.split(\" \")[0] in select_con]\n",
    "    urls = [x.get_attribute(\"href\") + \"-historical-data\" for x in tmp_name_of_table if x.text.split(\" \")[0] in select_con]\n",
    "    whole_file_name = []\n",
    "    for con_url in tqdm_notebook(urls) :    \n",
    "        driver.get(con_url)\n",
    "        file_name = driver.find_element_by_css_selector(\"h2.float_lang_base_1.inlineblock\").text\n",
    "\n",
    "        if \"/\" in file_name :\n",
    "            file_name = re.sub(\"/\",\"_\",file_name)\n",
    "        whole_file_name.append(file_name)\n",
    "        # 날짜 입력란\n",
    "        tmp_date = driver.find_element_by_css_selector(\"div#widgetFieldDateRange\")\n",
    "        tmp_date.click()\n",
    "        driver.implicitly_wait(3)\n",
    "        tmp_intput = driver.find_element_by_css_selector(\"input#startDate\")\n",
    "        # 기존 날짜 지우기\n",
    "        for _ in range(11) :\n",
    "            tmp_intput.send_keys(Keys.BACKSPACE)\n",
    "            time.sleep(0.1)\n",
    "        # 2010/10/04 부터 시작\n",
    "        tmp_intput.send_keys(start_day)\n",
    "\n",
    "        # 요청 버튼\n",
    "        request_btn = driver.find_element_by_css_selector(\"a#applyBtn\")\n",
    "        request_btn.click()\n",
    "        time.sleep(5)\n",
    "\n",
    "        # 다운로드 버튼\n",
    "        download_btn = driver.find_element_by_css_selector(\"a.newBtn.LightGray.downloadBlueIcon.js-download-data\")\n",
    "        download_btn.click()\n",
    "\n",
    "    ## 컬럼명 변경\n",
    "    choice_file = [x + \".csv\" for x in whole_file_name]\n",
    "    for file in tqdm_notebook(choice_file) :\n",
    "        a = pd.read_csv(download_file_path + file)\n",
    "        a['날짜'] = [cleansing(x) for x in a['날짜']]\n",
    "        new_column = ['date']\n",
    "        new_column.extend([re.sub(\" \",\"\",re.sub(\".csv\",\"\",file)) + \"_\" + del_per(x) for x in a.columns[1:]])\n",
    "        a.columns = new_column\n",
    "        a.to_csv(save_file_path + file, index = False)"
   ]
  },
  {
   "cell_type": "code",
   "execution_count": 158,
   "metadata": {},
   "outputs": [],
   "source": [
    "def cleansing(x) :\n",
    "    output = re.sub(\"[년월]\",\"-\",x)\n",
    "    output = re.sub(\"[일 ]\",\"\",output)\n",
    "    return(output)"
   ]
  },
  {
   "cell_type": "code",
   "execution_count": 159,
   "metadata": {},
   "outputs": [],
   "source": [
    "def del_per(x) :\n",
    "    try :\n",
    "        output = re.sub(\" %\",\"\",x)\n",
    "        return(output)\n",
    "    except :\n",
    "        pass"
   ]
  },
  {
   "cell_type": "markdown",
   "metadata": {},
   "source": [
    "## Crawling\n",
    "\n",
    "* 환율 데이터 다운로드"
   ]
  },
  {
   "cell_type": "code",
   "execution_count": 160,
   "metadata": {},
   "outputs": [],
   "source": [
    "# 전체에서 뽑고 싶은 것만\n",
    "select_list = [\"EUR/USD\",\"GBP/USD\",\"USD/JPY\",\"USD/KRW\", \"USD/CNY\", \"USD/XPF\", \"USD/CAD\"]"
   ]
  },
  {
   "cell_type": "code",
   "execution_count": 161,
   "metadata": {
    "scrolled": true
   },
   "outputs": [
    {
     "name": "stderr",
     "output_type": "stream",
     "text": [
      "/home/ubunt/anaconda3/lib/python3.6/site-packages/ipykernel_launcher.py:14: TqdmDeprecationWarning: This function will be removed in tqdm==5.0.0\n",
      "Please use `tqdm.notebook.tqdm` instead of `tqdm.tqdm_notebook`\n",
      "  \n"
     ]
    },
    {
     "data": {
      "application/vnd.jupyter.widget-view+json": {
       "model_id": "4e780c5523c84400bdd64583c6bbf98b",
       "version_major": 2,
       "version_minor": 0
      },
      "text/plain": [
       "HBox(children=(IntProgress(value=1, bar_style='info', max=1), HTML(value='')))"
      ]
     },
     "metadata": {},
     "output_type": "display_data"
    },
    {
     "name": "stdout",
     "output_type": "stream",
     "text": [
      "\n"
     ]
    },
    {
     "name": "stderr",
     "output_type": "stream",
     "text": [
      "/home/ubunt/anaconda3/lib/python3.6/site-packages/ipykernel_launcher.py:44: TqdmDeprecationWarning: This function will be removed in tqdm==5.0.0\n",
      "Please use `tqdm.notebook.tqdm` instead of `tqdm.tqdm_notebook`\n"
     ]
    },
    {
     "data": {
      "application/vnd.jupyter.widget-view+json": {
       "model_id": "5a91af5169e740cea988dfe7f5752975",
       "version_major": 2,
       "version_minor": 0
      },
      "text/plain": [
       "HBox(children=(IntProgress(value=0, max=7), HTML(value='')))"
      ]
     },
     "metadata": {},
     "output_type": "display_data"
    },
    {
     "name": "stdout",
     "output_type": "stream",
     "text": [
      "\n"
     ]
    }
   ],
   "source": [
    "exchange_crawl(select_list, \"2010/01/04\")"
   ]
  },
  {
   "cell_type": "markdown",
   "metadata": {},
   "source": [
    "* 통화 선물 데이터 다운로드"
   ]
  },
  {
   "cell_type": "code",
   "execution_count": 169,
   "metadata": {},
   "outputs": [],
   "source": [
    "# 통화 선물\n",
    "url = \"https://kr.investing.com/currencies/fx-futures\"\n",
    "driver.get(url)"
   ]
  },
  {
   "cell_type": "code",
   "execution_count": 171,
   "metadata": {
    "scrolled": true
   },
   "outputs": [
    {
     "name": "stderr",
     "output_type": "stream",
     "text": [
      "/home/ubunt/anaconda3/lib/python3.6/site-packages/ipykernel_launcher.py:13: TqdmDeprecationWarning: This function will be removed in tqdm==5.0.0\n",
      "Please use `tqdm.notebook.tqdm` instead of `tqdm.tqdm_notebook`\n",
      "  del sys.path[0]\n"
     ]
    },
    {
     "data": {
      "application/vnd.jupyter.widget-view+json": {
       "model_id": "c4d71b68dc12447eb9b1c19d1665cb36",
       "version_major": 2,
       "version_minor": 0
      },
      "text/plain": [
       "HBox(children=(IntProgress(value=0, max=11), HTML(value='')))"
      ]
     },
     "metadata": {},
     "output_type": "display_data"
    },
    {
     "name": "stdout",
     "output_type": "stream",
     "text": [
      "\n"
     ]
    },
    {
     "name": "stderr",
     "output_type": "stream",
     "text": [
      "/home/ubunt/anaconda3/lib/python3.6/site-packages/ipykernel_launcher.py:54: TqdmDeprecationWarning: This function will be removed in tqdm==5.0.0\n",
      "Please use `tqdm.notebook.tqdm` instead of `tqdm.tqdm_notebook`\n"
     ]
    },
    {
     "data": {
      "application/vnd.jupyter.widget-view+json": {
       "model_id": "5c6524877c094556a98ea86e99641180",
       "version_major": 2,
       "version_minor": 0
      },
      "text/plain": [
       "HBox(children=(IntProgress(value=0, max=11), HTML(value='')))"
      ]
     },
     "metadata": {},
     "output_type": "display_data"
    },
    {
     "name": "stdout",
     "output_type": "stream",
     "text": [
      "\n"
     ]
    }
   ],
   "source": [
    "exchange_gift_crawl(\"2010/01/04\")"
   ]
  },
  {
   "cell_type": "markdown",
   "metadata": {},
   "source": [
    "* 채권 데이터 다운로드"
   ]
  },
  {
   "cell_type": "code",
   "execution_count": 231,
   "metadata": {},
   "outputs": [],
   "source": [
    "# 채권\n",
    "url = \"https://kr.investing.com/rates-bonds/world-government-bonds\"\n",
    "driver.get(url)"
   ]
  },
  {
   "cell_type": "code",
   "execution_count": 232,
   "metadata": {},
   "outputs": [],
   "source": [
    "select_con = [\"캐나다\",\"미국\",\"독일\",\"중국\",\"영국\",\"일본\",\"프랑스\",\"한국\",\"이탈리아\"]"
   ]
  },
  {
   "cell_type": "code",
   "execution_count": null,
   "metadata": {
    "scrolled": true
   },
   "outputs": [],
   "source": [
    "bond_crawl(select_con, \"2010/01/04\")"
   ]
  },
  {
   "cell_type": "code",
   "execution_count": null,
   "metadata": {},
   "outputs": [],
   "source": []
  }
 ],
 "metadata": {
  "kernelspec": {
   "display_name": "Python 3",
   "language": "python",
   "name": "python3"
  },
  "language_info": {
   "codemirror_mode": {
    "name": "ipython",
    "version": 3
   },
   "file_extension": ".py",
   "mimetype": "text/x-python",
   "name": "python",
   "nbconvert_exporter": "python",
   "pygments_lexer": "ipython3",
   "version": "3.6.5"
  }
 },
 "nbformat": 4,
 "nbformat_minor": 2
}

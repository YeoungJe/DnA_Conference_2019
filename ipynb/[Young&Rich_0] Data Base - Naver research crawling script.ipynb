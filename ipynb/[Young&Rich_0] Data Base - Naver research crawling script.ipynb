{
 "cells": [
  {
   "cell_type": "markdown",
   "metadata": {},
   "source": [
    "## Import"
   ]
  },
  {
   "cell_type": "code",
   "execution_count": 3,
   "metadata": {},
   "outputs": [],
   "source": [
    "from tqdm import tnrange\n",
    "from tqdm import tqdm\n",
    "from bs4 import BeautifulSoup\n",
    "from tqdm import tqdm_notebook\n",
    "\n",
    "import time\n",
    "import pandas as pd\n",
    "import numpy as np\n",
    "import re\n",
    "import requests"
   ]
  },
  {
   "cell_type": "markdown",
   "metadata": {},
   "source": [
    "## Function"
   ]
  },
  {
   "cell_type": "code",
   "execution_count": 52,
   "metadata": {},
   "outputs": [],
   "source": [
    "def cleansing_text(x) :\n",
    "    output = x[0].text\n",
    "    output = re.sub(\"[\\n\\t]\",\"\",output)\n",
    "    return output"
   ]
  },
  {
   "cell_type": "markdown",
   "metadata": {},
   "source": [
    "## Crawling\n",
    "\n",
    "* 투자 전략 크롤링"
   ]
  },
  {
   "cell_type": "code",
   "execution_count": 39,
   "metadata": {},
   "outputs": [],
   "source": [
    "csv_save_path = \"/home/ubunt/4-2/stock price/data/invest_csv/\""
   ]
  },
  {
   "cell_type": "markdown",
   "metadata": {},
   "source": [
    "#### invest_list"
   ]
  },
  {
   "cell_type": "code",
   "execution_count": 8,
   "metadata": {},
   "outputs": [],
   "source": [
    "base_url = \"https://finance.naver.com/research/\"\n",
    "start_index = 1"
   ]
  },
  {
   "cell_type": "code",
   "execution_count": 37,
   "metadata": {
    "scrolled": true
   },
   "outputs": [
    {
     "data": {
      "application/vnd.jupyter.widget-view+json": {
       "model_id": "3018d3b210b8440cad5d84366855ca6e",
       "version_major": 2,
       "version_minor": 0
      },
      "text/plain": [
       "HBox(children=(IntProgress(value=0, max=486), HTML(value='')))"
      ]
     },
     "metadata": {},
     "output_type": "display_data"
    }
   ],
   "source": [
    "for index in tqdm_notebook(range(start_index,594)) :\n",
    "    url = \"https://finance.naver.com/research/invest_list.nhn?&page={}\".format(index)\n",
    "    res = requests.get(url)\n",
    "    assert res.status_code == 200\n",
    "    \n",
    "    soup = BeautifulSoup(res.text, \"html.parser\")\n",
    "    tmp_set = soup.select(\"table.type_1 td a\")\n",
    "    page_titles = [x.text for x in tmp_set if len(x.text) > 1]\n",
    "    page_urls = [base_url + x.get(\"href\") for x in tmp_set if \"https://\" not in x.get(\"href\") and \"http://\" not in x.get(\"href\")]\n",
    "    \n",
    "    tmp_date = soup.select(\"table.type_1 td.date\")\n",
    "    page_dates = [x.text for x in tmp_date if \".\" in x.text]\n",
    "    page_views = [x.text for x in tmp_date if \".\" not in x.text]\n",
    "    \n",
    "    page_df = pd.DataFrame({\"date\" : page_dates, \"title\" : page_titles, \"view\" : page_views, \"url\" : page_urls})\n",
    "    \n",
    "    if start_index == 1 :\n",
    "        invest_inform = page_df\n",
    "    else :\n",
    "        invest_inform = invest_inform.append(page_df)\n",
    "    start_index += 1"
   ]
  },
  {
   "cell_type": "code",
   "execution_count": 38,
   "metadata": {},
   "outputs": [],
   "source": [
    "invest_inform.index = [x for x in range(invest_inform.shape[0])]"
   ]
  },
  {
   "cell_type": "code",
   "execution_count": 40,
   "metadata": {},
   "outputs": [],
   "source": [
    "invest_inform.to_csv(csv_save_path + \"invest_inform_2019092723.csv\", index = False)"
   ]
  },
  {
   "cell_type": "markdown",
   "metadata": {},
   "source": [
    "#### invest text"
   ]
  },
  {
   "cell_type": "code",
   "execution_count": 87,
   "metadata": {},
   "outputs": [],
   "source": [
    "start_index = 0"
   ]
  },
  {
   "cell_type": "code",
   "execution_count": 88,
   "metadata": {
    "scrolled": true
   },
   "outputs": [
    {
     "data": {
      "application/vnd.jupyter.widget-view+json": {
       "model_id": "a1b92285ab4646e2befb3dbcee143eb2",
       "version_major": 2,
       "version_minor": 0
      },
      "text/plain": [
       "HBox(children=(IntProgress(value=0, max=17769), HTML(value='')))"
      ]
     },
     "metadata": {},
     "output_type": "display_data"
    }
   ],
   "source": [
    "initial_idx = start_index\n",
    "for idx,url in enumerate(tqdm_notebook(invest_inform.url[start_index:])) :\n",
    "    whole_idx = initial_idx + idx\n",
    "    if int(invest_inform.date[whole_idx][:2]) >= 10 :\n",
    "        res = requests.get(url)\n",
    "        assert res.status_code == 200\n",
    "        soup = BeautifulSoup(res.text, \"html.parser\")\n",
    "        tmp_text = soup.select(\"td.view_cnt div\")\n",
    "        texts = cleansing_text(tmp_text)\n",
    "\n",
    "        text_df = pd.DataFrame({\"text\" : [texts], \"url\" : [url]})\n",
    "\n",
    "        if start_index == 0 :\n",
    "            invest_text_df = text_df\n",
    "        else :\n",
    "            invest_text_df = invest_text_df.append(text_df)\n",
    "        start_index += 1\n",
    "    else :\n",
    "        break"
   ]
  },
  {
   "cell_type": "code",
   "execution_count": 89,
   "metadata": {},
   "outputs": [],
   "source": [
    "invest_text_df.index = [x for x in range(invest_text_df.shape[0])]"
   ]
  },
  {
   "cell_type": "code",
   "execution_count": 91,
   "metadata": {},
   "outputs": [],
   "source": [
    "invest_text_df.to_csv(csv_save_path + \"invest_text_df_2019092800.csv\", index= False)"
   ]
  },
  {
   "cell_type": "code",
   "execution_count": null,
   "metadata": {},
   "outputs": [],
   "source": []
  }
 ],
 "metadata": {
  "kernelspec": {
   "display_name": "Python 3",
   "language": "python",
   "name": "python3"
  },
  "language_info": {
   "codemirror_mode": {
    "name": "ipython",
    "version": 3
   },
   "file_extension": ".py",
   "mimetype": "text/x-python",
   "name": "python",
   "nbconvert_exporter": "python",
   "pygments_lexer": "ipython3",
   "version": "3.6.5"
  }
 },
 "nbformat": 4,
 "nbformat_minor": 2
}
